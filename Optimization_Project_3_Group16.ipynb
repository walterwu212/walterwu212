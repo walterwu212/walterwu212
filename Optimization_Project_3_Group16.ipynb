{
 "cells": [
  {
   "cell_type": "code",
   "execution_count": 214,
   "id": "4cbc0f73",
   "metadata": {},
   "outputs": [],
   "source": [
    "import numpy as np\n",
    "import gurobipy as gp\n",
    "import pandas as pd\n",
    "from scipy.optimize import minimize\n",
    "from sklearn.metrics import SCORERS\n",
    "from sklearn.model_selection import GridSearchCV\n",
    "from sklearn.linear_model import Ridge, RidgeCV, Lasso, LassoCV\n",
    "from sklearn.metrics import mean_squared_error\n",
    "from sklearn.model_selection import KFold\n",
    "from sklearn.metrics import mean_squared_error, make_scorer\n",
    "import seaborn as sns\n",
    "import csv\n",
    "import matplotlib.pyplot as plt"
   ]
  },
  {
   "cell_type": "code",
   "execution_count": 2,
   "id": "cd4b8726",
   "metadata": {},
   "outputs": [],
   "source": [
    "import warnings\n",
    "warnings.simplefilter(\"ignore\")"
   ]
  },
  {
   "cell_type": "code",
   "execution_count": 4,
   "id": "4decd51b",
   "metadata": {},
   "outputs": [],
   "source": [
    "train = pd.read_csv('training_data.csv')\n",
    "test = pd.read_csv('test_data.csv')"
   ]
  },
  {
   "cell_type": "code",
   "execution_count": 5,
   "id": "4fa3e8d5",
   "metadata": {},
   "outputs": [],
   "source": [
    "X_train = train.drop(columns = 'y').copy()\n",
    "X_test = test.drop(columns = 'y').copy()\n",
    "y_train = train['y'].copy()\n",
    "y_test = test['y'].copy()"
   ]
  },
  {
   "cell_type": "code",
   "execution_count": 6,
   "id": "c8e627f3",
   "metadata": {},
   "outputs": [],
   "source": [
    "X_train_array = np.ones((len(X_train), len(X_train.columns) + 1))\n",
    "X_test_array = np.ones((len(X_test), len(X_test.columns) + 1))"
   ]
  },
  {
   "cell_type": "code",
   "execution_count": 7,
   "id": "ab1e3711",
   "metadata": {},
   "outputs": [],
   "source": [
    "X_train_array[:, 1:] = X_train\n",
    "X_test_array[:, 1:] = X_test"
   ]
  },
  {
   "cell_type": "code",
   "execution_count": 8,
   "id": "2903b3cf",
   "metadata": {},
   "outputs": [
    {
     "data": {
      "text/plain": [
       "(250, 51)"
      ]
     },
     "execution_count": 8,
     "metadata": {},
     "output_type": "execute_result"
    }
   ],
   "source": [
    "X_train_array.shape"
   ]
  },
  {
   "cell_type": "code",
   "execution_count": 9,
   "id": "0ceb46a9",
   "metadata": {},
   "outputs": [
    {
     "data": {
      "text/plain": [
       "(50, 51)"
      ]
     },
     "execution_count": 9,
     "metadata": {},
     "output_type": "execute_result"
    }
   ],
   "source": [
    "X_test_array.shape"
   ]
  },
  {
   "cell_type": "code",
   "execution_count": 10,
   "id": "c4e6fa6c",
   "metadata": {},
   "outputs": [],
   "source": [
    "m = len(X_train.columns) #number of variable X\n",
    "n = len(X_train) #number of rows"
   ]
  },
  {
   "cell_type": "code",
   "execution_count": 11,
   "id": "6947abe3",
   "metadata": {},
   "outputs": [
    {
     "data": {
      "text/html": [
       "<div>\n",
       "<style scoped>\n",
       "    .dataframe tbody tr th:only-of-type {\n",
       "        vertical-align: middle;\n",
       "    }\n",
       "\n",
       "    .dataframe tbody tr th {\n",
       "        vertical-align: top;\n",
       "    }\n",
       "\n",
       "    .dataframe thead th {\n",
       "        text-align: right;\n",
       "    }\n",
       "</style>\n",
       "<table border=\"1\" class=\"dataframe\">\n",
       "  <thead>\n",
       "    <tr style=\"text-align: right;\">\n",
       "      <th></th>\n",
       "      <th>0</th>\n",
       "      <th>1</th>\n",
       "      <th>2</th>\n",
       "      <th>3</th>\n",
       "      <th>4</th>\n",
       "      <th>5</th>\n",
       "      <th>6</th>\n",
       "      <th>7</th>\n",
       "      <th>8</th>\n",
       "      <th>9</th>\n",
       "      <th>...</th>\n",
       "      <th>41</th>\n",
       "      <th>42</th>\n",
       "      <th>43</th>\n",
       "      <th>44</th>\n",
       "      <th>45</th>\n",
       "      <th>46</th>\n",
       "      <th>47</th>\n",
       "      <th>48</th>\n",
       "      <th>49</th>\n",
       "      <th>50</th>\n",
       "    </tr>\n",
       "  </thead>\n",
       "  <tbody>\n",
       "    <tr>\n",
       "      <th>0</th>\n",
       "      <td>1.0</td>\n",
       "      <td>-1.535413</td>\n",
       "      <td>0.718888</td>\n",
       "      <td>-2.099149</td>\n",
       "      <td>-0.442842</td>\n",
       "      <td>-0.598978</td>\n",
       "      <td>-1.642574</td>\n",
       "      <td>0.207755</td>\n",
       "      <td>0.760642</td>\n",
       "      <td>0.575874</td>\n",
       "      <td>...</td>\n",
       "      <td>0.361866</td>\n",
       "      <td>1.793098</td>\n",
       "      <td>-0.631287</td>\n",
       "      <td>-0.061751</td>\n",
       "      <td>0.511049</td>\n",
       "      <td>0.488754</td>\n",
       "      <td>-0.612772</td>\n",
       "      <td>-0.471045</td>\n",
       "      <td>-1.139781</td>\n",
       "      <td>-0.260773</td>\n",
       "    </tr>\n",
       "    <tr>\n",
       "      <th>1</th>\n",
       "      <td>1.0</td>\n",
       "      <td>-1.734609</td>\n",
       "      <td>0.551981</td>\n",
       "      <td>-2.147673</td>\n",
       "      <td>-1.552944</td>\n",
       "      <td>1.514910</td>\n",
       "      <td>-1.143972</td>\n",
       "      <td>0.737594</td>\n",
       "      <td>1.321243</td>\n",
       "      <td>-0.261684</td>\n",
       "      <td>...</td>\n",
       "      <td>-0.677985</td>\n",
       "      <td>-0.165679</td>\n",
       "      <td>0.065405</td>\n",
       "      <td>0.137162</td>\n",
       "      <td>1.258197</td>\n",
       "      <td>-0.120834</td>\n",
       "      <td>-1.564834</td>\n",
       "      <td>-0.242565</td>\n",
       "      <td>-0.001827</td>\n",
       "      <td>1.187453</td>\n",
       "    </tr>\n",
       "    <tr>\n",
       "      <th>2</th>\n",
       "      <td>1.0</td>\n",
       "      <td>0.097257</td>\n",
       "      <td>0.107634</td>\n",
       "      <td>-0.194222</td>\n",
       "      <td>0.335454</td>\n",
       "      <td>-0.408199</td>\n",
       "      <td>0.133265</td>\n",
       "      <td>0.706179</td>\n",
       "      <td>0.394971</td>\n",
       "      <td>-0.437116</td>\n",
       "      <td>...</td>\n",
       "      <td>1.108801</td>\n",
       "      <td>0.333791</td>\n",
       "      <td>0.282055</td>\n",
       "      <td>-1.086294</td>\n",
       "      <td>-0.115354</td>\n",
       "      <td>0.257857</td>\n",
       "      <td>-0.088838</td>\n",
       "      <td>-0.751231</td>\n",
       "      <td>1.450609</td>\n",
       "      <td>0.290593</td>\n",
       "    </tr>\n",
       "    <tr>\n",
       "      <th>3</th>\n",
       "      <td>1.0</td>\n",
       "      <td>-0.067702</td>\n",
       "      <td>0.557836</td>\n",
       "      <td>0.700848</td>\n",
       "      <td>-1.121376</td>\n",
       "      <td>1.722274</td>\n",
       "      <td>0.613525</td>\n",
       "      <td>0.700909</td>\n",
       "      <td>-0.417976</td>\n",
       "      <td>1.069749</td>\n",
       "      <td>...</td>\n",
       "      <td>0.692511</td>\n",
       "      <td>-0.350990</td>\n",
       "      <td>0.624558</td>\n",
       "      <td>0.434520</td>\n",
       "      <td>-0.367409</td>\n",
       "      <td>-1.144681</td>\n",
       "      <td>-0.136524</td>\n",
       "      <td>-0.557214</td>\n",
       "      <td>0.416303</td>\n",
       "      <td>0.484495</td>\n",
       "    </tr>\n",
       "    <tr>\n",
       "      <th>4</th>\n",
       "      <td>1.0</td>\n",
       "      <td>0.488729</td>\n",
       "      <td>0.211483</td>\n",
       "      <td>0.568389</td>\n",
       "      <td>0.646837</td>\n",
       "      <td>0.163868</td>\n",
       "      <td>-0.002152</td>\n",
       "      <td>0.125137</td>\n",
       "      <td>0.493571</td>\n",
       "      <td>1.705451</td>\n",
       "      <td>...</td>\n",
       "      <td>-0.000605</td>\n",
       "      <td>1.075280</td>\n",
       "      <td>0.182281</td>\n",
       "      <td>-1.138458</td>\n",
       "      <td>0.106092</td>\n",
       "      <td>0.544640</td>\n",
       "      <td>-0.383487</td>\n",
       "      <td>-0.425773</td>\n",
       "      <td>2.667647</td>\n",
       "      <td>-0.050748</td>\n",
       "    </tr>\n",
       "    <tr>\n",
       "      <th>...</th>\n",
       "      <td>...</td>\n",
       "      <td>...</td>\n",
       "      <td>...</td>\n",
       "      <td>...</td>\n",
       "      <td>...</td>\n",
       "      <td>...</td>\n",
       "      <td>...</td>\n",
       "      <td>...</td>\n",
       "      <td>...</td>\n",
       "      <td>...</td>\n",
       "      <td>...</td>\n",
       "      <td>...</td>\n",
       "      <td>...</td>\n",
       "      <td>...</td>\n",
       "      <td>...</td>\n",
       "      <td>...</td>\n",
       "      <td>...</td>\n",
       "      <td>...</td>\n",
       "      <td>...</td>\n",
       "      <td>...</td>\n",
       "      <td>...</td>\n",
       "    </tr>\n",
       "    <tr>\n",
       "      <th>245</th>\n",
       "      <td>1.0</td>\n",
       "      <td>0.210132</td>\n",
       "      <td>-0.193059</td>\n",
       "      <td>2.033908</td>\n",
       "      <td>-0.832887</td>\n",
       "      <td>0.049040</td>\n",
       "      <td>-0.197864</td>\n",
       "      <td>-1.885529</td>\n",
       "      <td>-2.526842</td>\n",
       "      <td>-0.826903</td>\n",
       "      <td>...</td>\n",
       "      <td>0.555085</td>\n",
       "      <td>-2.099135</td>\n",
       "      <td>-0.411719</td>\n",
       "      <td>1.053645</td>\n",
       "      <td>-0.172623</td>\n",
       "      <td>-1.207709</td>\n",
       "      <td>0.748914</td>\n",
       "      <td>-1.343144</td>\n",
       "      <td>-0.696000</td>\n",
       "      <td>0.525172</td>\n",
       "    </tr>\n",
       "    <tr>\n",
       "      <th>246</th>\n",
       "      <td>1.0</td>\n",
       "      <td>-0.039047</td>\n",
       "      <td>-0.021366</td>\n",
       "      <td>1.040784</td>\n",
       "      <td>-3.435317</td>\n",
       "      <td>-0.419417</td>\n",
       "      <td>0.293139</td>\n",
       "      <td>-0.165674</td>\n",
       "      <td>-0.357788</td>\n",
       "      <td>-0.943576</td>\n",
       "      <td>...</td>\n",
       "      <td>-0.564113</td>\n",
       "      <td>-1.721975</td>\n",
       "      <td>-0.556074</td>\n",
       "      <td>0.028959</td>\n",
       "      <td>0.594509</td>\n",
       "      <td>-1.010988</td>\n",
       "      <td>-0.205257</td>\n",
       "      <td>-0.148502</td>\n",
       "      <td>-0.656065</td>\n",
       "      <td>0.140523</td>\n",
       "    </tr>\n",
       "    <tr>\n",
       "      <th>247</th>\n",
       "      <td>1.0</td>\n",
       "      <td>0.091237</td>\n",
       "      <td>0.473698</td>\n",
       "      <td>0.051832</td>\n",
       "      <td>0.721924</td>\n",
       "      <td>0.337938</td>\n",
       "      <td>1.322324</td>\n",
       "      <td>-0.605442</td>\n",
       "      <td>0.428120</td>\n",
       "      <td>0.003276</td>\n",
       "      <td>...</td>\n",
       "      <td>0.348330</td>\n",
       "      <td>0.099530</td>\n",
       "      <td>0.019925</td>\n",
       "      <td>1.121458</td>\n",
       "      <td>1.901447</td>\n",
       "      <td>-0.431072</td>\n",
       "      <td>-0.124469</td>\n",
       "      <td>-0.084185</td>\n",
       "      <td>-0.200143</td>\n",
       "      <td>0.840786</td>\n",
       "    </tr>\n",
       "    <tr>\n",
       "      <th>248</th>\n",
       "      <td>1.0</td>\n",
       "      <td>-1.407003</td>\n",
       "      <td>0.510886</td>\n",
       "      <td>-2.077584</td>\n",
       "      <td>-0.438144</td>\n",
       "      <td>2.225628</td>\n",
       "      <td>0.165129</td>\n",
       "      <td>-1.335051</td>\n",
       "      <td>1.348180</td>\n",
       "      <td>-0.031812</td>\n",
       "      <td>...</td>\n",
       "      <td>-1.076265</td>\n",
       "      <td>1.303594</td>\n",
       "      <td>-1.458794</td>\n",
       "      <td>1.172178</td>\n",
       "      <td>0.451014</td>\n",
       "      <td>0.572106</td>\n",
       "      <td>-3.660368</td>\n",
       "      <td>-0.052251</td>\n",
       "      <td>0.543762</td>\n",
       "      <td>0.274006</td>\n",
       "    </tr>\n",
       "    <tr>\n",
       "      <th>249</th>\n",
       "      <td>1.0</td>\n",
       "      <td>-1.959505</td>\n",
       "      <td>0.271733</td>\n",
       "      <td>-0.575357</td>\n",
       "      <td>1.757495</td>\n",
       "      <td>-0.294705</td>\n",
       "      <td>0.357976</td>\n",
       "      <td>2.451312</td>\n",
       "      <td>-0.037805</td>\n",
       "      <td>0.471080</td>\n",
       "      <td>...</td>\n",
       "      <td>-0.655907</td>\n",
       "      <td>0.487639</td>\n",
       "      <td>1.512198</td>\n",
       "      <td>-0.822407</td>\n",
       "      <td>1.364416</td>\n",
       "      <td>-0.235698</td>\n",
       "      <td>-0.630991</td>\n",
       "      <td>2.052762</td>\n",
       "      <td>0.033563</td>\n",
       "      <td>-1.198486</td>\n",
       "    </tr>\n",
       "  </tbody>\n",
       "</table>\n",
       "<p>250 rows × 51 columns</p>\n",
       "</div>"
      ],
      "text/plain": [
       "      0         1         2         3         4         5         6   \\\n",
       "0    1.0 -1.535413  0.718888 -2.099149 -0.442842 -0.598978 -1.642574   \n",
       "1    1.0 -1.734609  0.551981 -2.147673 -1.552944  1.514910 -1.143972   \n",
       "2    1.0  0.097257  0.107634 -0.194222  0.335454 -0.408199  0.133265   \n",
       "3    1.0 -0.067702  0.557836  0.700848 -1.121376  1.722274  0.613525   \n",
       "4    1.0  0.488729  0.211483  0.568389  0.646837  0.163868 -0.002152   \n",
       "..   ...       ...       ...       ...       ...       ...       ...   \n",
       "245  1.0  0.210132 -0.193059  2.033908 -0.832887  0.049040 -0.197864   \n",
       "246  1.0 -0.039047 -0.021366  1.040784 -3.435317 -0.419417  0.293139   \n",
       "247  1.0  0.091237  0.473698  0.051832  0.721924  0.337938  1.322324   \n",
       "248  1.0 -1.407003  0.510886 -2.077584 -0.438144  2.225628  0.165129   \n",
       "249  1.0 -1.959505  0.271733 -0.575357  1.757495 -0.294705  0.357976   \n",
       "\n",
       "           7         8         9   ...        41        42        43  \\\n",
       "0    0.207755  0.760642  0.575874  ...  0.361866  1.793098 -0.631287   \n",
       "1    0.737594  1.321243 -0.261684  ... -0.677985 -0.165679  0.065405   \n",
       "2    0.706179  0.394971 -0.437116  ...  1.108801  0.333791  0.282055   \n",
       "3    0.700909 -0.417976  1.069749  ...  0.692511 -0.350990  0.624558   \n",
       "4    0.125137  0.493571  1.705451  ... -0.000605  1.075280  0.182281   \n",
       "..        ...       ...       ...  ...       ...       ...       ...   \n",
       "245 -1.885529 -2.526842 -0.826903  ...  0.555085 -2.099135 -0.411719   \n",
       "246 -0.165674 -0.357788 -0.943576  ... -0.564113 -1.721975 -0.556074   \n",
       "247 -0.605442  0.428120  0.003276  ...  0.348330  0.099530  0.019925   \n",
       "248 -1.335051  1.348180 -0.031812  ... -1.076265  1.303594 -1.458794   \n",
       "249  2.451312 -0.037805  0.471080  ... -0.655907  0.487639  1.512198   \n",
       "\n",
       "           44        45        46        47        48        49        50  \n",
       "0   -0.061751  0.511049  0.488754 -0.612772 -0.471045 -1.139781 -0.260773  \n",
       "1    0.137162  1.258197 -0.120834 -1.564834 -0.242565 -0.001827  1.187453  \n",
       "2   -1.086294 -0.115354  0.257857 -0.088838 -0.751231  1.450609  0.290593  \n",
       "3    0.434520 -0.367409 -1.144681 -0.136524 -0.557214  0.416303  0.484495  \n",
       "4   -1.138458  0.106092  0.544640 -0.383487 -0.425773  2.667647 -0.050748  \n",
       "..        ...       ...       ...       ...       ...       ...       ...  \n",
       "245  1.053645 -0.172623 -1.207709  0.748914 -1.343144 -0.696000  0.525172  \n",
       "246  0.028959  0.594509 -1.010988 -0.205257 -0.148502 -0.656065  0.140523  \n",
       "247  1.121458  1.901447 -0.431072 -0.124469 -0.084185 -0.200143  0.840786  \n",
       "248  1.172178  0.451014  0.572106 -3.660368 -0.052251  0.543762  0.274006  \n",
       "249 -0.822407  1.364416 -0.235698 -0.630991  2.052762  0.033563 -1.198486  \n",
       "\n",
       "[250 rows x 51 columns]"
      ]
     },
     "execution_count": 11,
     "metadata": {},
     "output_type": "execute_result"
    }
   ],
   "source": [
    "X_train_df = pd.DataFrame(X_train_array)\n",
    "X_train_df"
   ]
  },
  {
   "cell_type": "markdown",
   "id": "bb1e6714",
   "metadata": {},
   "source": [
    "# Part 1"
   ]
  },
  {
   "cell_type": "code",
   "execution_count": 12,
   "id": "bd078196",
   "metadata": {},
   "outputs": [],
   "source": [
    "i = m * 2 + 1 \n",
    "j = m * 2 + 1\n",
    "\n",
    "A = np.zeros((i,j))\n",
    "b = [''] * i\n",
    "sense = [''] * i"
   ]
  },
  {
   "cell_type": "code",
   "execution_count": 13,
   "id": "140a9839",
   "metadata": {},
   "outputs": [],
   "source": [
    "c = 0\n",
    "d = 1\n",
    "f = 1\n",
    "k = 10\n",
    "\n",
    "while c < 2 * m + 1:\n",
    "    if c < m: #big m method \n",
    "        A[c][d] = 1\n",
    "        A[c][m + d] = -1000\n",
    "        b[c] = 0\n",
    "        sense[c] = '<'\n",
    "        c += 1\n",
    "        d += 1\n",
    "        \n",
    "    elif c != 2 * m:\n",
    "        A[c][f] = 1\n",
    "        A[c][m + f] = 1000\n",
    "        b[c] = 0\n",
    "        sense[c] = '>'\n",
    "        c += 1\n",
    "        f += 1\n",
    "        \n",
    "    else:\n",
    "        A[c, m+1: ] = 1\n",
    "        sense[c] = '='\n",
    "        b[c] = k\n",
    "        c += 1"
   ]
  },
  {
   "cell_type": "code",
   "execution_count": 14,
   "id": "ab262df5",
   "metadata": {},
   "outputs": [
    {
     "data": {
      "text/plain": [
       "(101, 101)"
      ]
     },
     "execution_count": 14,
     "metadata": {},
     "output_type": "execute_result"
    }
   ],
   "source": [
    "A.shape"
   ]
  },
  {
   "cell_type": "code",
   "execution_count": 37,
   "id": "8fb54e77",
   "metadata": {},
   "outputs": [],
   "source": [
    "b = np.array(b)"
   ]
  },
  {
   "cell_type": "code",
   "execution_count": 38,
   "id": "0322f354",
   "metadata": {},
   "outputs": [
    {
     "data": {
      "text/plain": [
       "101"
      ]
     },
     "execution_count": 38,
     "metadata": {},
     "output_type": "execute_result"
    }
   ],
   "source": [
    "len(b)"
   ]
  },
  {
   "cell_type": "code",
   "execution_count": 39,
   "id": "fe545409",
   "metadata": {},
   "outputs": [
    {
     "data": {
      "text/plain": [
       "array([ 0,  0,  0,  0,  0,  0,  0,  0,  0,  0,  0,  0,  0,  0,  0,  0,  0,\n",
       "        0,  0,  0,  0,  0,  0,  0,  0,  0,  0,  0,  0,  0,  0,  0,  0,  0,\n",
       "        0,  0,  0,  0,  0,  0,  0,  0,  0,  0,  0,  0,  0,  0,  0,  0,  0,\n",
       "        0,  0,  0,  0,  0,  0,  0,  0,  0,  0,  0,  0,  0,  0,  0,  0,  0,\n",
       "        0,  0,  0,  0,  0,  0,  0,  0,  0,  0,  0,  0,  0,  0,  0,  0,  0,\n",
       "        0,  0,  0,  0,  0,  0,  0,  0,  0,  0,  0,  0,  0,  0,  0, 10])"
      ]
     },
     "execution_count": 39,
     "metadata": {},
     "output_type": "execute_result"
    }
   ],
   "source": [
    "b"
   ]
  },
  {
   "cell_type": "code",
   "execution_count": 65,
   "id": "1f67d958",
   "metadata": {},
   "outputs": [
    {
     "data": {
      "text/plain": [
       "101"
      ]
     },
     "execution_count": 65,
     "metadata": {},
     "output_type": "execute_result"
    }
   ],
   "source": [
    "len(sense)"
   ]
  },
  {
   "cell_type": "code",
   "execution_count": 40,
   "id": "b701669c",
   "metadata": {},
   "outputs": [],
   "source": [
    "ub=[1000] * (m + 1) + [1] * m\n",
    "lb=[-1000] * (m + 1) + [0] * m\n",
    "\n",
    "sigma = np.zeros((i, j))\n",
    "sigma[:m + 1,:m + 1] = X_train_array.T @ X_train_array\n",
    "\n",
    "obj=np.zeros((2 * m + 1))\n",
    "obj[:m + 1]=-2 * (y_train.T @ X_train_array)\n",
    "\n",
    "var = ['C'] * (m + 1) + ['B'] * m"
   ]
  },
  {
   "cell_type": "code",
   "execution_count": 41,
   "id": "81197d34",
   "metadata": {},
   "outputs": [
    {
     "name": "stdout",
     "output_type": "stream",
     "text": [
      "Academic license - for non-commercial use only - expires 2022-08-25\n",
      "Using license file C:\\Users\\yanqi\\gurobi.lic\n"
     ]
    }
   ],
   "source": [
    "QPMod = gp.Model()\n",
    "QPMod_x = QPMod.addMVar(j, ub = ub, lb = lb, vtype = var)\n",
    "QPMod_con = QPMod.addMConstrs(A, QPMod_x, sense, b)\n",
    "\n",
    "QPMod.setMObjective(sigma, obj, 0, sense = gp.GRB.MINIMIZE)\n",
    "QPMod.Params.OutputFlag = 0 \n",
    "QPMod.optimize()"
   ]
  },
  {
   "cell_type": "code",
   "execution_count": 42,
   "id": "61d9d2cf",
   "metadata": {},
   "outputs": [
    {
     "data": {
      "text/plain": [
       "array([ 0.97252408,  0.        ,  0.        ,  0.        ,  0.        ,\n",
       "        0.        ,  0.        ,  0.        ,  0.        , -2.30820726,\n",
       "        0.        ,  0.        ,  0.        ,  0.        ,  0.        ,\n",
       "       -0.51832612, -0.20416201,  0.        ,  0.        ,  0.        ,\n",
       "        0.        ,  0.        ,  0.        , -1.55914318,  0.86697336,\n",
       "        0.        , -1.31191942,  0.        ,  0.        ,  0.        ,\n",
       "        0.        ,  0.        ,  0.        ,  0.        ,  0.4081653 ,\n",
       "        0.        ,  0.        ,  0.        ,  0.        ,  0.        ,\n",
       "        0.        ,  0.        ,  0.        ,  0.        ,  0.        ,\n",
       "        1.78147489,  0.        ,  0.88738292, -0.28229213,  0.        ,\n",
       "        0.        ,  0.        ,  0.        , -0.        ,  0.        ,\n",
       "        0.        , -0.        , -0.        , -0.        ,  1.        ,\n",
       "       -0.        , -0.        , -0.        , -0.        ,  0.        ,\n",
       "        1.        ,  1.        , -0.        , -0.        , -0.        ,\n",
       "       -0.        , -0.        , -0.        ,  1.        ,  1.        ,\n",
       "       -0.        ,  1.        , -0.        , -0.        , -0.        ,\n",
       "       -0.        , -0.        , -0.        , -0.        ,  1.        ,\n",
       "       -0.        , -0.        , -0.        , -0.        , -0.        ,\n",
       "       -0.        , -0.        , -0.        , -0.        , -0.        ,\n",
       "        1.        , -0.        ,  1.        ,  1.        , -0.        ,\n",
       "       -0.        ])"
      ]
     },
     "execution_count": 42,
     "metadata": {},
     "output_type": "execute_result"
    }
   ],
   "source": [
    "QPMod_x.x"
   ]
  },
  {
   "cell_type": "code",
   "execution_count": 43,
   "id": "b5a2735c",
   "metadata": {},
   "outputs": [
    {
     "data": {
      "text/plain": [
       "-4724.529618256629"
      ]
     },
     "execution_count": 43,
     "metadata": {},
     "output_type": "execute_result"
    }
   ],
   "source": [
    "QPMod.objVal"
   ]
  },
  {
   "cell_type": "markdown",
   "id": "b4437033",
   "metadata": {},
   "source": [
    "# Part 2"
   ]
  },
  {
   "cell_type": "code",
   "execution_count": 77,
   "id": "b5516804",
   "metadata": {},
   "outputs": [],
   "source": [
    "time = 300"
   ]
  },
  {
   "cell_type": "code",
   "execution_count": 78,
   "id": "db728408",
   "metadata": {},
   "outputs": [],
   "source": [
    "def Linear_Regression(X, y, n, t): #n is the variable, t is time limit.\n",
    "    \n",
    "    m = X.shape[1] - 1\n",
    "    i = 2 * m + 1\n",
    "    j = 2 * m + 1\n",
    "    \n",
    "    A = np.zeros((i, j))\n",
    "    \n",
    "    obj = np.zeros((2 * m + 1))\n",
    "    obj[:m + 1] = (y.T @ X) * (-2)\n",
    "    \n",
    "    sigma = np.zeros((2 * m + 1,2 * m + 1))\n",
    "    sigma[:m + 1,:m + 1] = X.T @ X\n",
    "    \n",
    "    b = [''] * i\n",
    "    sense = [''] * i\n",
    "    \n",
    "    ###################################################\n",
    "    \n",
    "    c = 0\n",
    "    d = 1\n",
    "    f = 1\n",
    "    k = 10\n",
    "\n",
    "    while c < 2 * m + 1:\n",
    "        if c < m:\n",
    "            A[c][d] = 1\n",
    "            A[c][m + d] = -1000\n",
    "            b[c] = 0\n",
    "            sense[c] = '<'\n",
    "            c += 1\n",
    "            d += 1\n",
    "\n",
    "        elif c != 2 * m:\n",
    "            A[c][f] = 1\n",
    "            A[c][m + f] = 1000\n",
    "            b[c] = 0\n",
    "            sense[c] = '>'\n",
    "            c += 1\n",
    "            f += 1\n",
    "\n",
    "        else:\n",
    "            A[c, m+1: ] = 1\n",
    "            sense[c] = '='\n",
    "            b[c] = n\n",
    "            c += 1\n",
    "            \n",
    "    ###################################################\n",
    "    \n",
    "    ub = [1000] * (m + 1) + [1] * m\n",
    "    lb = [-1000] * (m + 1) + [0] * m\n",
    "    var = ['C'] * (m + 1) + ['B'] * m\n",
    "    \n",
    "    QPMod = gp.Model()\n",
    "    QPMod_x = QPMod.addMVar(j, ub = ub, lb = lb, vtype = var)\n",
    "    QPMod_con = QPMod.addMConstrs(A, QPMod_x, sense, b)\n",
    "\n",
    "    QPMod.setMObjective(sigma, obj, 0, sense = gp.GRB.MINIMIZE)\n",
    "    QPMod.Params.OutputFlag = 0 \n",
    "    \n",
    "    QPMod.Params.TimeLimit = t\n",
    "    QPMod.optimize()\n",
    "    \n",
    "    return QPMod_x.x[:m+1], QPMod.objVal + y @ y.T\n",
    "\n",
    "def get_prediction(X, weight):\n",
    "    prediction = X @ weight\n",
    "    return prediction"
   ]
  },
  {
   "cell_type": "code",
   "execution_count": 74,
   "id": "d421bd09",
   "metadata": {},
   "outputs": [],
   "source": [
    "def CV(X, y, n, t, KFold):\n",
    "    \n",
    "    error_lst = [10000]\n",
    "    weights = []\n",
    "    c = 1\n",
    "    error = 0 #Set error be 0 at the begining\n",
    "    \n",
    "    index = np.linspace(0, len(X) - 1, len(X))\n",
    "    np.random.shuffle(index)\n",
    "    index = np.split(index, KFold)\n",
    "    \n",
    "    #set up validation set\n",
    "    for i in range (KFold):\n",
    "        X_test = X[index[i].astype(int)]\n",
    "        y_test = y[index[i].astype(int)]\n",
    "        train = []\n",
    "        \n",
    "        for j in range (len(X)):\n",
    "            if j not in index[i].astype(int):\n",
    "                train.append(j)\n",
    "                \n",
    "        #training set \n",
    "        X_train = X[train]\n",
    "        y_train = y[train]\n",
    "        \n",
    "        weight, err = Linear_Regression(X_train, y_train, n, t)\n",
    "        \n",
    "        #Select the weight with lowest error to retunr.\n",
    "        if err < error_lst[c - 1]:\n",
    "            weights.append(weight)\n",
    "            error_lst.append(err)\n",
    "            c += 1\n",
    "        \n",
    "        err2 = np.sum(weight.T @ X_test.T @ X_test @ weight - 2*y_test.T @ X_test @ weight + y_test @ y_test.T)\n",
    "        error += err2        \n",
    "    error = (error/KFold)\n",
    "    \n",
    "    return weights[-1], error"
   ]
  },
  {
   "cell_type": "code",
   "execution_count": 75,
   "id": "8a3a8d8f",
   "metadata": {},
   "outputs": [
    {
     "data": {
      "text/plain": [
       "(array([ 0.97252408,  0.        ,  0.        ,  0.        ,  0.        ,\n",
       "         0.        ,  0.        ,  0.        ,  0.        , -2.30820726,\n",
       "         0.        ,  0.        ,  0.        ,  0.        ,  0.        ,\n",
       "        -0.51832612, -0.20416201,  0.        ,  0.        ,  0.        ,\n",
       "         0.        ,  0.        ,  0.        , -1.55914318,  0.86697336,\n",
       "         0.        , -1.31191942,  0.        ,  0.        ,  0.        ,\n",
       "         0.        ,  0.        ,  0.        ,  0.        ,  0.4081653 ,\n",
       "         0.        ,  0.        ,  0.        ,  0.        ,  0.        ,\n",
       "         0.        ,  0.        ,  0.        ,  0.        ,  0.        ,\n",
       "         1.78147489,  0.        ,  0.88738292, -0.28229213,  0.        ,\n",
       "         0.        ]),\n",
       " 597.9963165728677)"
      ]
     },
     "execution_count": 75,
     "metadata": {},
     "output_type": "execute_result"
    }
   ],
   "source": [
    "Linear_Regression(X_train_array, y_train, 10, time)"
   ]
  },
  {
   "cell_type": "code",
   "execution_count": 76,
   "id": "11379deb",
   "metadata": {},
   "outputs": [
    {
     "data": {
      "text/plain": [
       "(array([ 0.95981562,  0.        ,  0.        ,  0.        ,  0.        ,\n",
       "         0.        ,  0.        ,  0.        ,  0.        , -2.33090934,\n",
       "         0.        ,  0.        ,  0.        ,  0.        ,  0.        ,\n",
       "        -0.55290144,  0.        ,  0.        ,  0.        ,  0.        ,\n",
       "         0.        ,  0.        ,  0.        , -1.56635111,  0.82510321,\n",
       "         0.        , -1.43214526,  0.        ,  0.        ,  0.        ,\n",
       "         0.        ,  0.        ,  0.        ,  0.        ,  0.52257534,\n",
       "         0.        ,  0.        ,  0.        ,  0.        ,  0.        ,\n",
       "         0.        ,  0.        ,  0.        ,  0.        ,  0.26271257,\n",
       "         1.7658726 , -0.23811621,  0.87831854,  0.        ,  0.        ,\n",
       "         0.        ]),\n",
       " 73.33621616173258)"
      ]
     },
     "execution_count": 76,
     "metadata": {},
     "output_type": "execute_result"
    }
   ],
   "source": [
    "CV(X_train_array, y_train, 10, time, 10)"
   ]
  },
  {
   "cell_type": "code",
   "execution_count": 80,
   "id": "12656247",
   "metadata": {},
   "outputs": [
    {
     "name": "stdout",
     "output_type": "stream",
     "text": [
      "5\n",
      "10\n",
      "15\n",
      "20\n",
      "25\n",
      "30\n",
      "35\n",
      "40\n",
      "45\n",
      "50\n"
     ]
    }
   ],
   "source": [
    "total_error = []\n",
    "total_weights = []\n",
    "df_view = pd.DataFrame()\n",
    "n = 5\n",
    "\n",
    "while n <= 50:\n",
    "    weight, error = CV(X_train_array, y_train, n, time, 10)\n",
    "    total_error.append(error)\n",
    "    total_weights.append(weight)\n",
    "    print (n)\n",
    "    n += 5\n",
    "\n",
    "df_view['Weights'] = total_weights\n",
    "df_view['Error'] = total_error\n",
    "df_view.index = ['5', '10', '15', '20', '25', '30', '35', '40', '45', '50']"
   ]
  },
  {
   "cell_type": "code",
   "execution_count": 173,
   "id": "97f14c9f",
   "metadata": {},
   "outputs": [
    {
     "data": {
      "text/html": [
       "<div>\n",
       "<style scoped>\n",
       "    .dataframe tbody tr th:only-of-type {\n",
       "        vertical-align: middle;\n",
       "    }\n",
       "\n",
       "    .dataframe tbody tr th {\n",
       "        vertical-align: top;\n",
       "    }\n",
       "\n",
       "    .dataframe thead th {\n",
       "        text-align: right;\n",
       "    }\n",
       "</style>\n",
       "<table border=\"1\" class=\"dataframe\">\n",
       "  <thead>\n",
       "    <tr style=\"text-align: right;\">\n",
       "      <th></th>\n",
       "      <th>Weights</th>\n",
       "      <th>Error</th>\n",
       "    </tr>\n",
       "  </thead>\n",
       "  <tbody>\n",
       "    <tr>\n",
       "      <th>5</th>\n",
       "      <td>[0.933389457358503, 0.0, 0.0, 0.0, 0.0, 0.0, 0...</td>\n",
       "      <td>92.331132</td>\n",
       "    </tr>\n",
       "    <tr>\n",
       "      <th>10</th>\n",
       "      <td>[1.0240077372734635, 0.0, 0.0, 0.0, 0.0, 0.0, ...</td>\n",
       "      <td>72.386924</td>\n",
       "    </tr>\n",
       "    <tr>\n",
       "      <th>15</th>\n",
       "      <td>[1.0025078210234406, 0.0, 0.0, 0.0, 0.20596325...</td>\n",
       "      <td>78.082693</td>\n",
       "    </tr>\n",
       "    <tr>\n",
       "      <th>20</th>\n",
       "      <td>[0.9385385398382459, 0.0, 0.0, 0.0, 0.19392077...</td>\n",
       "      <td>80.982100</td>\n",
       "    </tr>\n",
       "    <tr>\n",
       "      <th>25</th>\n",
       "      <td>[0.9147822691198064, 0.0, 0.0, 0.4549559636555...</td>\n",
       "      <td>80.522231</td>\n",
       "    </tr>\n",
       "    <tr>\n",
       "      <th>30</th>\n",
       "      <td>[0.9792373628571353, -0.19941308819832132, 0.0...</td>\n",
       "      <td>88.312066</td>\n",
       "    </tr>\n",
       "    <tr>\n",
       "      <th>35</th>\n",
       "      <td>[1.0787444371972241, 0.0, 0.0, 0.2228390192421...</td>\n",
       "      <td>84.195045</td>\n",
       "    </tr>\n",
       "    <tr>\n",
       "      <th>40</th>\n",
       "      <td>[1.0836983204097692, 0.26669473558957635, 0.0,...</td>\n",
       "      <td>90.806601</td>\n",
       "    </tr>\n",
       "    <tr>\n",
       "      <th>45</th>\n",
       "      <td>[0.9164290441079571, 0.0, 0.1360032232906032, ...</td>\n",
       "      <td>82.139365</td>\n",
       "    </tr>\n",
       "    <tr>\n",
       "      <th>50</th>\n",
       "      <td>[0.9455929345358527, -0.24009239609597444, 0.0...</td>\n",
       "      <td>82.296313</td>\n",
       "    </tr>\n",
       "  </tbody>\n",
       "</table>\n",
       "</div>"
      ],
      "text/plain": [
       "                                              Weights      Error\n",
       "5   [0.933389457358503, 0.0, 0.0, 0.0, 0.0, 0.0, 0...  92.331132\n",
       "10  [1.0240077372734635, 0.0, 0.0, 0.0, 0.0, 0.0, ...  72.386924\n",
       "15  [1.0025078210234406, 0.0, 0.0, 0.0, 0.20596325...  78.082693\n",
       "20  [0.9385385398382459, 0.0, 0.0, 0.0, 0.19392077...  80.982100\n",
       "25  [0.9147822691198064, 0.0, 0.0, 0.4549559636555...  80.522231\n",
       "30  [0.9792373628571353, -0.19941308819832132, 0.0...  88.312066\n",
       "35  [1.0787444371972241, 0.0, 0.0, 0.2228390192421...  84.195045\n",
       "40  [1.0836983204097692, 0.26669473558957635, 0.0,...  90.806601\n",
       "45  [0.9164290441079571, 0.0, 0.1360032232906032, ...  82.139365\n",
       "50  [0.9455929345358527, -0.24009239609597444, 0.0...  82.296313"
      ]
     },
     "execution_count": 173,
     "metadata": {},
     "output_type": "execute_result"
    }
   ],
   "source": [
    "df_view"
   ]
  },
  {
   "cell_type": "code",
   "execution_count": 198,
   "id": "ac3b1589",
   "metadata": {},
   "outputs": [],
   "source": [
    "new_df = pd.DataFrame()\n",
    "new_df['Error'] = total_error\n",
    "new_df['k'] = ['5', '10', '15', '20', '25', '30', '35', '40', '45', '50']\n",
    "new_df['Weights'] = total_weights\n",
    "new_df['Weights'] = new_df.apply(lambda row : row['Weights'].tolist(), axis = 1)"
   ]
  },
  {
   "cell_type": "code",
   "execution_count": null,
   "id": "cb005ebc",
   "metadata": {},
   "outputs": [],
   "source": [
    "new_df.to_csv('project3_k_weight_error.csv')"
   ]
  },
  {
   "cell_type": "code",
   "execution_count": 195,
   "id": "45946cb3",
   "metadata": {},
   "outputs": [],
   "source": [
    "df_view_2 = pd.read_csv('project3_k_weight_error.csv',index_col = 0)"
   ]
  },
  {
   "cell_type": "code",
   "execution_count": 201,
   "id": "60d80e08",
   "metadata": {},
   "outputs": [],
   "source": [
    "import ast\n",
    "df_view_2['Weights'] = df_view_2['Weights'].apply(lambda x: ast.literal_eval(x))"
   ]
  },
  {
   "cell_type": "code",
   "execution_count": 83,
   "id": "b635cf5a",
   "metadata": {},
   "outputs": [
    {
     "data": {
      "text/plain": [
       "<AxesSubplot:ylabel='Error'>"
      ]
     },
     "execution_count": 83,
     "metadata": {},
     "output_type": "execute_result"
    },
    {
     "data": {
      "image/png": "[encoded data removed]",
      "text/plain": [
       "<Figure size 432x288 with 1 Axes>"
      ]
     },
     "metadata": {
      "needs_background": "light"
     },
     "output_type": "display_data"
    }
   ],
   "source": [
    "sns.lineplot(data = df_view, x = df_view.index, y = 'Error') #k = 10 gives the best result."
   ]
  },
  {
   "cell_type": "code",
   "execution_count": 204,
   "id": "288f1967",
   "metadata": {},
   "outputs": [],
   "source": [
    "prediction_training = get_prediction(X_train_array, df_view_2['Weights'][1])\n",
    "prediction_testing = get_prediction(X_test_array, df_view_2['Weights'][1])"
   ]
  },
  {
   "cell_type": "markdown",
   "id": "6d643c2b",
   "metadata": {},
   "source": [
    "# Part 3"
   ]
  },
  {
   "cell_type": "code",
   "execution_count": 206,
   "id": "8ea28c50",
   "metadata": {},
   "outputs": [
    {
     "data": {
      "text/plain": [
       "GridSearchCV(cv=10, estimator=Lasso(),\n",
       "             param_grid=[{'alpha': array([1.00000000e+06, 7.56463328e+05, 5.72236766e+05, 4.32876128e+05,\n",
       "       3.27454916e+05, 2.47707636e+05, 1.87381742e+05, 1.41747416e+05,\n",
       "       1.07226722e+05, 8.11130831e+04, 6.13590727e+04, 4.64158883e+04,\n",
       "       3.51119173e+04, 2.65608778e+04, 2.00923300e+04, 1.51991108e+04,\n",
       "       1.14975700e+04, 8.69749003e+03, 6.57933225e+03,...\n",
       "       6.13590727e-04, 4.64158883e-04, 3.51119173e-04, 2.65608778e-04,\n",
       "       2.00923300e-04, 1.51991108e-04, 1.14975700e-04, 8.69749003e-05,\n",
       "       6.57933225e-05, 4.97702356e-05, 3.76493581e-05, 2.84803587e-05,\n",
       "       2.15443469e-05, 1.62975083e-05, 1.23284674e-05, 9.32603347e-06,\n",
       "       7.05480231e-06, 5.33669923e-06, 4.03701726e-06, 3.05385551e-06,\n",
       "       2.31012970e-06, 1.74752840e-06, 1.32194115e-06, 1.00000000e-06])}],\n",
       "             scoring='neg_mean_squared_error')"
      ]
     },
     "execution_count": 206,
     "metadata": {},
     "output_type": "execute_result"
    }
   ],
   "source": [
    "alpha = 10**np.linspace(6,-6,100)\n",
    "param = [{'alpha': alpha}]\n",
    "\n",
    "clf = GridSearchCV(Lasso(), param, cv=10, scoring = 'neg_mean_squared_error', refit=True)\n",
    "clf.fit(X_train_array, y_train)"
   ]
  },
  {
   "cell_type": "code",
   "execution_count": 207,
   "id": "b02c18d8",
   "metadata": {},
   "outputs": [],
   "source": [
    "#Lasso\n",
    "best_alpha = clf.best_params_\n",
    "best_alpha = list(best_alpha.values())[0]\n",
    "\n",
    "lasso_model = LassoCV(alphas = [best_alpha], cv=10)\n",
    "lasso_model.fit(X_train, list(y_train))\n",
    "lasso_weight = lasso_model.coef_ "
   ]
  },
  {
   "cell_type": "code",
   "execution_count": 208,
   "id": "27e46147",
   "metadata": {},
   "outputs": [],
   "source": [
    "train_predict = lasso_model.predict(X_train)\n",
    "test_predict = lasso_model.predict(X_test)"
   ]
  },
  {
   "cell_type": "code",
   "execution_count": 209,
   "id": "76c6806a",
   "metadata": {},
   "outputs": [],
   "source": [
    "train_mse = mean_squared_error(y_train, train_predict)\n",
    "test_mse = mean_squared_error(y_test, test_predict)"
   ]
  },
  {
   "cell_type": "code",
   "execution_count": 210,
   "id": "2d84536d",
   "metadata": {},
   "outputs": [],
   "source": [
    "#LR\n",
    "train_mse_2 = mean_squared_error(y_train, prediction_training)\n",
    "test_mse_2 = mean_squared_error(y_test, prediction_testing)"
   ]
  },
  {
   "cell_type": "code",
   "execution_count": 211,
   "id": "79b162be",
   "metadata": {},
   "outputs": [],
   "source": [
    "df_report = pd.DataFrame()\n",
    "\n",
    "df_report['Train Error'] = [train_mse, train_mse_2]\n",
    "df_report['Test Error'] = [test_mse, test_mse_2]\n",
    "df_report.index = ['Lasso', 'LR']"
   ]
  },
  {
   "cell_type": "code",
   "execution_count": 212,
   "id": "af3c4d9f",
   "metadata": {},
   "outputs": [
    {
     "data": {
      "text/html": [
       "<div>\n",
       "<style scoped>\n",
       "    .dataframe tbody tr th:only-of-type {\n",
       "        vertical-align: middle;\n",
       "    }\n",
       "\n",
       "    .dataframe tbody tr th {\n",
       "        vertical-align: top;\n",
       "    }\n",
       "\n",
       "    .dataframe thead th {\n",
       "        text-align: right;\n",
       "    }\n",
       "</style>\n",
       "<table border=\"1\" class=\"dataframe\">\n",
       "  <thead>\n",
       "    <tr style=\"text-align: right;\">\n",
       "      <th></th>\n",
       "      <th>Train Error</th>\n",
       "      <th>Test Error</th>\n",
       "    </tr>\n",
       "  </thead>\n",
       "  <tbody>\n",
       "    <tr>\n",
       "      <th>Lasso</th>\n",
       "      <td>2.356777</td>\n",
       "      <td>2.346139</td>\n",
       "    </tr>\n",
       "    <tr>\n",
       "      <th>LR</th>\n",
       "      <td>2.419120</td>\n",
       "      <td>2.309875</td>\n",
       "    </tr>\n",
       "  </tbody>\n",
       "</table>\n",
       "</div>"
      ],
      "text/plain": [
       "       Train Error  Test Error\n",
       "Lasso     2.356777    2.346139\n",
       "LR        2.419120    2.309875"
      ]
     },
     "execution_count": 212,
     "metadata": {},
     "output_type": "execute_result"
    }
   ],
   "source": [
    "df_report"
   ]
  },
  {
   "cell_type": "code",
   "execution_count": 215,
   "id": "a393f80d",
   "metadata": {},
   "outputs": [],
   "source": [
    "df_report.to_csv('project3_report')"
   ]
  },
  {
   "cell_type": "markdown",
   "id": "33e6b92c",
   "metadata": {},
   "source": [
    "# Visualization"
   ]
  },
  {
   "cell_type": "code",
   "execution_count": 224,
   "id": "9b15fefd",
   "metadata": {},
   "outputs": [
    {
     "data": {
      "text/plain": [
       "Text(0.5, 1.0, 'Training vs Testing Error')"
      ]
     },
     "execution_count": 224,
     "metadata": {},
     "output_type": "execute_result"
    },
    {
     "data": {
      "image/png": "[encoded data removed]",
      "text/plain": [
       "<Figure size 432x288 with 1 Axes>"
      ]
     },
     "metadata": {
      "needs_background": "light"
     },
     "output_type": "display_data"
    }
   ],
   "source": [
    "#plots for LR train and test error \n",
    "plt.bar(['Train','Test'],[train_mse_2,test_mse_2])\n",
    "plt.title('Training vs Testing Error')"
   ]
  },
  {
   "cell_type": "code",
   "execution_count": 221,
   "id": "74dcd7f0",
   "metadata": {},
   "outputs": [
    {
     "data": {
      "text/plain": [
       "Text(0.5, 1.0, 'Error Trend with k variables')"
      ]
     },
     "execution_count": 221,
     "metadata": {},
     "output_type": "execute_result"
    },
    {
     "data": {
      "image/png": "[encoded data removed]",
      "text/plain": [
       "<Figure size 432x288 with 1 Axes>"
      ]
     },
     "metadata": {
      "needs_background": "light"
     },
     "output_type": "display_data"
    }
   ],
   "source": [
    "#plots for the LR error \n",
    "plt.plot(df_view_2['k'].values,df_view_2['Error'].values)\n",
    "plt.xlabel('k')\n",
    "plt.ylabel('Error')\n",
    "plt.title('Error Trend with k variables')"
   ]
  },
  {
   "cell_type": "code",
   "execution_count": 229,
   "id": "241fc9f9",
   "metadata": {},
   "outputs": [
    {
     "data": {
      "text/plain": [
       "Text(0.5, 1.0, 'Training vs Testing Error')"
      ]
     },
     "execution_count": 229,
     "metadata": {},
     "output_type": "execute_result"
    },
    {
     "data": {
      "image/png": "[encoded data removed]",
      "text/plain": [
       "<Figure size 432x288 with 1 Axes>"
      ]
     },
     "metadata": {
      "needs_background": "light"
     },
     "output_type": "display_data"
    }
   ],
   "source": [
    "#Lasso test vs train\n",
    "plt.bar(['Train','Test'],[train_mse,test_mse])\n",
    "plt.title('Training vs Testing Error')"
   ]
  },
  {
   "cell_type": "code",
   "execution_count": 244,
   "id": "eb48d914",
   "metadata": {},
   "outputs": [],
   "source": [
    "#comparing errors \n",
    "error = pd.DataFrame()\n",
    "error['Error Type'] = ['Train','Test']\n",
    "error['Lasso'] = df_report.loc['Lasso'].values\n",
    "error['LR'] = df_report.loc['LR'].values"
   ]
  },
  {
   "cell_type": "code",
   "execution_count": 246,
   "id": "b69f2fb1",
   "metadata": {},
   "outputs": [
    {
     "data": {
      "text/plain": [
       "Text(0.5, 1.0, 'Lasso vs MIQP Error')"
      ]
     },
     "execution_count": 246,
     "metadata": {},
     "output_type": "execute_result"
    },
    {
     "data": {
      "image/png": "[encoded data removed]",
      "text/plain": [
       "<Figure size 432x288 with 1 Axes>"
      ]
     },
     "metadata": {
      "needs_background": "light"
     },
     "output_type": "display_data"
    }
   ],
   "source": [
    "error.plot(x=\"Error Type\", y=[\"Lasso\", \"LR\"], kind=\"bar\")\n",
    "plt.title('Lasso vs MIQP Error')"
   ]
  }
 ],
 "metadata": {
  "kernelspec": {
   "display_name": "Python 3 (ipykernel)",
   "language": "python",
   "name": "python3"
  },
  "language_info": {
   "codemirror_mode": {
    "name": "ipython",
    "version": 3
   },
   "file_extension": ".py",
   "mimetype": "text/x-python",
   "name": "python",
   "nbconvert_exporter": "python",
   "pygments_lexer": "ipython3",
   "version": "3.7.3"
  }
 },
 "nbformat": 4,
 "nbformat_minor": 5
}
