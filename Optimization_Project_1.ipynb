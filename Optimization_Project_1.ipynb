{
  "nbformat": 4,
  "nbformat_minor": 0,
  "metadata": {
    "colab": {
      "name": "Optimization Project 1.ipynb",
      "provenance": [],
      "collapsed_sections": []
    },
    "kernelspec": {
      "name": "python3",
      "display_name": "Python 3"
    },
    "language_info": {
      "name": "python"
    },
    "accelerator": "GPU"
  },
  "cells": [
    {
      "cell_type": "markdown",
      "metadata": {
        "id": "EqzyNwU7e6Pw"
      },
      "source": [
        "# Advertising Project - Group 15\n",
        "## Shreya Bhootda, Ishan Patel, Serena Wu, Shengxiang Wu"
      ]
    },
    {
      "cell_type": "markdown",
      "metadata": {
        "id": "jcP_tQaXGmHz"
      },
      "source": [
        "### Q1 - Q4\n"
      ]
    },
    {
      "cell_type": "code",
      "metadata": {
        "id": "TGdooB2_L-rt",
        "colab": {
          "base_uri": "https://localhost:8080/"
        },
        "outputId": "f8298bcb-db71-4a35-d5cf-754962ab2f86"
      },
      "source": [
        "#We worked this problem on Google Colab.\n",
        "\n",
        "#Use this if on Google Colab\n",
        "%pip install -i https://pypi.gurobi.com gurobipy"
      ],
      "execution_count": 1,
      "outputs": [
        {
          "output_type": "stream",
          "name": "stdout",
          "text": [
            "Looking in indexes: https://pypi.gurobi.com\n",
            "Collecting gurobipy\n",
            "  Downloading gurobipy-9.1.2-cp37-cp37m-manylinux1_x86_64.whl (11.1 MB)\n",
            "\u001b[K     |████████████████████████████████| 11.1 MB 4.4 MB/s \n",
            "\u001b[?25hInstalling collected packages: gurobipy\n",
            "Successfully installed gurobipy-9.1.2\n"
          ]
        }
      ]
    },
    {
      "cell_type": "code",
      "metadata": {
        "id": "0cxGF6g6IYZz"
      },
      "source": [
        "import pandas as pd\n",
        "import numpy as np\n",
        "import gurobipy as gp\n",
        "from matplotlib import pyplot as plt"
      ],
      "execution_count": 4,
      "outputs": []
    },
    {
      "cell_type": "markdown",
      "metadata": {
        "id": "HRdw1Sd1Gr8F"
      },
      "source": [
        "#### First ROI"
      ]
    },
    {
      "cell_type": "code",
      "metadata": {
        "id": "UQCbKndnOpOO",
        "colab": {
          "base_uri": "https://localhost:8080/",
          "height": 110
        },
        "outputId": "49059475-4492-4aca-c4a9-927567721df7"
      },
      "source": [
        "#Use this if on Jupyter Notebook\n",
        "\n",
        "# read ROI data set\n",
        "df = pd.read_csv('ROI_data.csv')\n",
        "df"
      ],
      "execution_count": null,
      "outputs": [
        {
          "output_type": "execute_result",
          "data": {
            "text/html": [
              "<div>\n",
              "<style scoped>\n",
              "    .dataframe tbody tr th:only-of-type {\n",
              "        vertical-align: middle;\n",
              "    }\n",
              "\n",
              "    .dataframe tbody tr th {\n",
              "        vertical-align: top;\n",
              "    }\n",
              "\n",
              "    .dataframe thead th {\n",
              "        text-align: right;\n",
              "    }\n",
              "</style>\n",
              "<table border=\"1\" class=\"dataframe\">\n",
              "  <thead>\n",
              "    <tr style=\"text-align: right;\">\n",
              "      <th></th>\n",
              "      <th>Platform</th>\n",
              "      <th>Print</th>\n",
              "      <th>TV</th>\n",
              "      <th>SEO</th>\n",
              "      <th>AdWords</th>\n",
              "      <th>Facebook</th>\n",
              "      <th>LinkedIn</th>\n",
              "      <th>Instagram</th>\n",
              "      <th>Snapchat</th>\n",
              "      <th>Twitter</th>\n",
              "      <th>Email</th>\n",
              "    </tr>\n",
              "  </thead>\n",
              "  <tbody>\n",
              "    <tr>\n",
              "      <th>0</th>\n",
              "      <td>ROI</td>\n",
              "      <td>0.031</td>\n",
              "      <td>0.049</td>\n",
              "      <td>0.024</td>\n",
              "      <td>0.039</td>\n",
              "      <td>0.016</td>\n",
              "      <td>0.024</td>\n",
              "      <td>0.046</td>\n",
              "      <td>0.026</td>\n",
              "      <td>0.033</td>\n",
              "      <td>0.044</td>\n",
              "    </tr>\n",
              "    <tr>\n",
              "      <th>1</th>\n",
              "      <td>Second Firms ROI Estimate</td>\n",
              "      <td>0.049</td>\n",
              "      <td>0.023</td>\n",
              "      <td>0.024</td>\n",
              "      <td>0.039</td>\n",
              "      <td>0.044</td>\n",
              "      <td>0.046</td>\n",
              "      <td>0.026</td>\n",
              "      <td>0.019</td>\n",
              "      <td>0.037</td>\n",
              "      <td>0.026</td>\n",
              "    </tr>\n",
              "  </tbody>\n",
              "</table>\n",
              "</div>"
            ],
            "text/plain": [
              "                    Platform  Print     TV  ...  Snapchat  Twitter  Email\n",
              "0                        ROI  0.031  0.049  ...     0.026    0.033  0.044\n",
              "1  Second Firms ROI Estimate  0.049  0.023  ...     0.019    0.037  0.026\n",
              "\n",
              "[2 rows x 11 columns]"
            ]
          },
          "metadata": {},
          "execution_count": 6
        }
      ]
    },
    {
      "cell_type": "code",
      "metadata": {
        "id": "yhdvzgFxOxtB",
        "colab": {
          "resources": {
            "http://localhost:8080/nbextensions/google.colab/files.js": {
              "data": "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",
              "ok": true,
              "headers": [
                [
                  "content-type",
                  "application/javascript"
                ]
              ],
              "status": 200,
              "status_text": ""
            }
          },
          "base_uri": "https://localhost:8080/",
          "height": 72
        },
        "outputId": "e4fc6992-85e1-4159-831a-e82b0e86c391"
      },
      "source": [
        "#Use this if on Google Colab\n",
        "\n",
        "from google.colab import files\n",
        "  \n",
        "  \n",
        "uploaded = files.upload()"
      ],
      "execution_count": 2,
      "outputs": [
        {
          "output_type": "display_data",
          "data": {
            "text/html": [
              "\n",
              "     <input type=\"file\" id=\"files-258b4609-7327-40da-b040-d877f12d79fe\" name=\"files[]\" multiple disabled\n",
              "        style=\"border:none\" />\n",
              "     <output id=\"result-258b4609-7327-40da-b040-d877f12d79fe\">\n",
              "      Upload widget is only available when the cell has been executed in the\n",
              "      current browser session. Please rerun this cell to enable.\n",
              "      </output>\n",
              "      <script src=\"/nbextensions/google.colab/files.js\"></script> "
            ],
            "text/plain": [
              "<IPython.core.display.HTML object>"
            ]
          },
          "metadata": {}
        },
        {
          "output_type": "stream",
          "name": "stdout",
          "text": [
            "Saving ROI_data.csv to ROI_data.csv\n"
          ]
        }
      ]
    },
    {
      "cell_type": "code",
      "metadata": {
        "id": "YdzhAdoVO7LB",
        "colab": {
          "base_uri": "https://localhost:8080/",
          "height": 111
        },
        "outputId": "aa9f185d-5c88-4bbc-863f-4d6446a5c96e"
      },
      "source": [
        "#Use this if on Google Colab\n",
        "\n",
        "import io\n",
        "\n",
        "# read ROI data set \n",
        "df = pd.read_csv(io.BytesIO(uploaded['ROI_data.csv']))\n",
        "df"
      ],
      "execution_count": 5,
      "outputs": [
        {
          "output_type": "execute_result",
          "data": {
            "text/html": [
              "<div>\n",
              "<style scoped>\n",
              "    .dataframe tbody tr th:only-of-type {\n",
              "        vertical-align: middle;\n",
              "    }\n",
              "\n",
              "    .dataframe tbody tr th {\n",
              "        vertical-align: top;\n",
              "    }\n",
              "\n",
              "    .dataframe thead th {\n",
              "        text-align: right;\n",
              "    }\n",
              "</style>\n",
              "<table border=\"1\" class=\"dataframe\">\n",
              "  <thead>\n",
              "    <tr style=\"text-align: right;\">\n",
              "      <th></th>\n",
              "      <th>Platform</th>\n",
              "      <th>Print</th>\n",
              "      <th>TV</th>\n",
              "      <th>SEO</th>\n",
              "      <th>AdWords</th>\n",
              "      <th>Facebook</th>\n",
              "      <th>LinkedIn</th>\n",
              "      <th>Instagram</th>\n",
              "      <th>Snapchat</th>\n",
              "      <th>Twitter</th>\n",
              "      <th>Email</th>\n",
              "    </tr>\n",
              "  </thead>\n",
              "  <tbody>\n",
              "    <tr>\n",
              "      <th>0</th>\n",
              "      <td>ROI</td>\n",
              "      <td>0.031</td>\n",
              "      <td>0.049</td>\n",
              "      <td>0.024</td>\n",
              "      <td>0.039</td>\n",
              "      <td>0.016</td>\n",
              "      <td>0.024</td>\n",
              "      <td>0.046</td>\n",
              "      <td>0.026</td>\n",
              "      <td>0.033</td>\n",
              "      <td>0.044</td>\n",
              "    </tr>\n",
              "    <tr>\n",
              "      <th>1</th>\n",
              "      <td>Second Firms ROI Estimate</td>\n",
              "      <td>0.049</td>\n",
              "      <td>0.023</td>\n",
              "      <td>0.024</td>\n",
              "      <td>0.039</td>\n",
              "      <td>0.044</td>\n",
              "      <td>0.046</td>\n",
              "      <td>0.026</td>\n",
              "      <td>0.019</td>\n",
              "      <td>0.037</td>\n",
              "      <td>0.026</td>\n",
              "    </tr>\n",
              "  </tbody>\n",
              "</table>\n",
              "</div>"
            ],
            "text/plain": [
              "                    Platform  Print     TV  ...  Snapchat  Twitter  Email\n",
              "0                        ROI  0.031  0.049  ...     0.026    0.033  0.044\n",
              "1  Second Firms ROI Estimate  0.049  0.023  ...     0.019    0.037  0.026\n",
              "\n",
              "[2 rows x 11 columns]"
            ]
          },
          "metadata": {},
          "execution_count": 5
        }
      ]
    },
    {
      "cell_type": "code",
      "metadata": {
        "colab": {
          "base_uri": "https://localhost:8080/",
          "height": 359
        },
        "id": "ndTpVLe-jJ_W",
        "outputId": "958a8cf4-31b9-4fc7-8e5e-0de53c195fae"
      },
      "source": [
        "df.set_index('Platform').T"
      ],
      "execution_count": 6,
      "outputs": [
        {
          "output_type": "execute_result",
          "data": {
            "text/html": [
              "<div>\n",
              "<style scoped>\n",
              "    .dataframe tbody tr th:only-of-type {\n",
              "        vertical-align: middle;\n",
              "    }\n",
              "\n",
              "    .dataframe tbody tr th {\n",
              "        vertical-align: top;\n",
              "    }\n",
              "\n",
              "    .dataframe thead th {\n",
              "        text-align: right;\n",
              "    }\n",
              "</style>\n",
              "<table border=\"1\" class=\"dataframe\">\n",
              "  <thead>\n",
              "    <tr style=\"text-align: right;\">\n",
              "      <th>Platform</th>\n",
              "      <th>ROI</th>\n",
              "      <th>Second Firms ROI Estimate</th>\n",
              "    </tr>\n",
              "  </thead>\n",
              "  <tbody>\n",
              "    <tr>\n",
              "      <th>Print</th>\n",
              "      <td>0.031</td>\n",
              "      <td>0.049</td>\n",
              "    </tr>\n",
              "    <tr>\n",
              "      <th>TV</th>\n",
              "      <td>0.049</td>\n",
              "      <td>0.023</td>\n",
              "    </tr>\n",
              "    <tr>\n",
              "      <th>SEO</th>\n",
              "      <td>0.024</td>\n",
              "      <td>0.024</td>\n",
              "    </tr>\n",
              "    <tr>\n",
              "      <th>AdWords</th>\n",
              "      <td>0.039</td>\n",
              "      <td>0.039</td>\n",
              "    </tr>\n",
              "    <tr>\n",
              "      <th>Facebook</th>\n",
              "      <td>0.016</td>\n",
              "      <td>0.044</td>\n",
              "    </tr>\n",
              "    <tr>\n",
              "      <th>LinkedIn</th>\n",
              "      <td>0.024</td>\n",
              "      <td>0.046</td>\n",
              "    </tr>\n",
              "    <tr>\n",
              "      <th>Instagram</th>\n",
              "      <td>0.046</td>\n",
              "      <td>0.026</td>\n",
              "    </tr>\n",
              "    <tr>\n",
              "      <th>Snapchat</th>\n",
              "      <td>0.026</td>\n",
              "      <td>0.019</td>\n",
              "    </tr>\n",
              "    <tr>\n",
              "      <th>Twitter</th>\n",
              "      <td>0.033</td>\n",
              "      <td>0.037</td>\n",
              "    </tr>\n",
              "    <tr>\n",
              "      <th>Email</th>\n",
              "      <td>0.044</td>\n",
              "      <td>0.026</td>\n",
              "    </tr>\n",
              "  </tbody>\n",
              "</table>\n",
              "</div>"
            ],
            "text/plain": [
              "Platform     ROI  Second Firms ROI Estimate\n",
              "Print      0.031                      0.049\n",
              "TV         0.049                      0.023\n",
              "SEO        0.024                      0.024\n",
              "AdWords    0.039                      0.039\n",
              "Facebook   0.016                      0.044\n",
              "LinkedIn   0.024                      0.046\n",
              "Instagram  0.046                      0.026\n",
              "Snapchat   0.026                      0.019\n",
              "Twitter    0.033                      0.037\n",
              "Email      0.044                      0.026"
            ]
          },
          "metadata": {},
          "execution_count": 6
        }
      ]
    },
    {
      "cell_type": "code",
      "metadata": {
        "colab": {
          "base_uri": "https://localhost:8080/",
          "height": 571
        },
        "id": "QMCFi_wpgUUI",
        "outputId": "1bc54a8a-39f9-44e0-b290-8c53046b7511"
      },
      "source": [
        "from matplotlib.pyplot import figure\n",
        "\n",
        "\n",
        "df.set_index('Platform').T.plot(kind = 'bar',figsize=(15, 8))\n",
        "\n",
        "plt.title(\"Marketing ROI allocation\")\n",
        "plt.xlabel(\"Medium\")\n",
        "plt.ylabel(\"Percentage\")"
      ],
      "execution_count": 7,
      "outputs": [
        {
          "output_type": "execute_result",
          "data": {
            "text/plain": [
              "Text(0, 0.5, 'Percentage')"
            ]
          },
          "metadata": {},
          "execution_count": 7
        },
        {
          "output_type": "display_data",
          "data": {
            "image/png": "[encoded data removed]",
            "text/plain": [
              "<Figure size 1080x576 with 1 Axes>"
            ]
          },
          "metadata": {
            "needs_background": "light"
          }
        }
      ]
    },
    {
      "cell_type": "markdown",
      "metadata": {
        "id": "8hx29DXXDO1P"
      },
      "source": [
        "The above barplot illustrates the difference in the marketing strategy between the two firms. We can see that the second firm is concetrating more on advertising via **Print** and social media platforms like **LinkeIn, Facebook and Twitter**. The one thing commong among these platforns is that it facilitates putting across the message across via text as compared to just visuals i.e pictures, videos etc. "
      ]
    },
    {
      "cell_type": "code",
      "metadata": {
        "id": "DGYMSJBgPTMc"
      },
      "source": [
        "#Instead of hardcoding the ROIs, create a loop to take each ROI from the first row into an objective vector\n",
        "obj1 = np.zeros(10)\n",
        "for i in range(10):\n",
        "    obj1[i] = df.iloc[0, i+1]"
      ],
      "execution_count": 8,
      "outputs": []
    },
    {
      "cell_type": "code",
      "metadata": {
        "id": "UEsi5c3qI89w"
      },
      "source": [
        "A = np.zeros((13,10)) \n",
        "A[0:10,:] = np.identity(len(obj1)) #Each platform constraint\n",
        "A[10,:] = [1,1,0,0,-1,0,0,0,0,-1] #No more than FaceBook and Email\n",
        "A[11,:] = [0,0,2,2,-1,-1,-1,-1,-1,0] #at least twice of AdWords and SEO\n",
        "A[12,:] = 1\n",
        "\n",
        "b = np.array([3,3,3,3,3,3,3,3,3,3,0,0,10]) #The RHS of the constraints vector\n",
        "sense = np.array(['<']*13) "
      ],
      "execution_count": 9,
      "outputs": []
    },
    {
      "cell_type": "code",
      "metadata": {
        "id": "f9_Iley_I_qZ",
        "colab": {
          "base_uri": "https://localhost:8080/"
        },
        "outputId": "f861138b-95aa-401d-b6a3-f463eaeb84fa"
      },
      "source": [
        "print(A)"
      ],
      "execution_count": 10,
      "outputs": [
        {
          "output_type": "stream",
          "name": "stdout",
          "text": [
            "[[ 1.  0.  0.  0.  0.  0.  0.  0.  0.  0.]\n",
            " [ 0.  1.  0.  0.  0.  0.  0.  0.  0.  0.]\n",
            " [ 0.  0.  1.  0.  0.  0.  0.  0.  0.  0.]\n",
            " [ 0.  0.  0.  1.  0.  0.  0.  0.  0.  0.]\n",
            " [ 0.  0.  0.  0.  1.  0.  0.  0.  0.  0.]\n",
            " [ 0.  0.  0.  0.  0.  1.  0.  0.  0.  0.]\n",
            " [ 0.  0.  0.  0.  0.  0.  1.  0.  0.  0.]\n",
            " [ 0.  0.  0.  0.  0.  0.  0.  1.  0.  0.]\n",
            " [ 0.  0.  0.  0.  0.  0.  0.  0.  1.  0.]\n",
            " [ 0.  0.  0.  0.  0.  0.  0.  0.  0.  1.]\n",
            " [ 1.  1.  0.  0. -1.  0.  0.  0.  0. -1.]\n",
            " [ 0.  0.  2.  2. -1. -1. -1. -1. -1.  0.]\n",
            " [ 1.  1.  1.  1.  1.  1.  1.  1.  1.  1.]]\n"
          ]
        }
      ]
    },
    {
      "cell_type": "code",
      "metadata": {
        "id": "BnZM2gcpJBAq",
        "colab": {
          "base_uri": "https://localhost:8080/"
        },
        "outputId": "9623186f-efbf-418a-ec9a-030cf5f6521d"
      },
      "source": [
        "ROIModel1 = gp.Model() # initialize an empty model\n",
        "\n",
        "ROIModX1 = ROIModel1.addMVar(10) # tell the model how many variables there are\n",
        "# must define the variables before adding constraints because variables go into the constraints\n",
        "ROIModCon1 = ROIModel1.addMConstrs(A, ROIModX1, sense, b) # add the constraints to the model\n",
        "ROIModel1.setMObjective(None,obj1,0,sense=gp.GRB.MAXIMIZE) # add the objective to the model\n",
        "\n",
        "ROIModel1.Params.OutputFlag = 0 # tell gurobi to shut up!!"
      ],
      "execution_count": 11,
      "outputs": [
        {
          "output_type": "stream",
          "name": "stdout",
          "text": [
            "Restricted license - for non-production use only - expires 2022-01-13\n"
          ]
        }
      ]
    },
    {
      "cell_type": "code",
      "metadata": {
        "id": "SKl_J_U5JCeG"
      },
      "source": [
        "ROIModel1.optimize() # solve the LP"
      ],
      "execution_count": 12,
      "outputs": []
    },
    {
      "cell_type": "code",
      "metadata": {
        "id": "hcLQ9uzhJDwn",
        "colab": {
          "base_uri": "https://localhost:8080/"
        },
        "outputId": "ec72ece8-f82c-4aab-df64-a3bcf322f9f6"
      },
      "source": [
        "ROIopt1 = ROIModel1.objVal # optimal profit level\n",
        "ROIopt1"
      ],
      "execution_count": 13,
      "outputs": [
        {
          "output_type": "execute_result",
          "data": {
            "text/plain": [
              "0.45600000000000007"
            ]
          },
          "metadata": {},
          "execution_count": 13
        }
      ]
    },
    {
      "cell_type": "code",
      "metadata": {
        "id": "L6tAVQ-SJE38",
        "colab": {
          "base_uri": "https://localhost:8080/"
        },
        "outputId": "384776a6-060e-47aa-f31c-6da4b068b4d2"
      },
      "source": [
        "alloc1 = ROIModX1.x #Solution for allocations\n",
        "alloc1 "
      ],
      "execution_count": 14,
      "outputs": [
        {
          "output_type": "execute_result",
          "data": {
            "text/plain": [
              "array([0., 3., 0., 1., 0., 0., 3., 0., 0., 3.])"
            ]
          },
          "metadata": {},
          "execution_count": 14
        }
      ]
    },
    {
      "cell_type": "markdown",
      "metadata": {
        "id": "NSBqlMcEVDwc"
      },
      "source": [
        "Based on the first ROI, we have found the optimal allocation **[0., 3., 0., 1., 0., 0., 3., 0., 0., 3.]** on **[Print,\tTV,\tSEO,\tAdWords,\tFacebook,\tLinkedIn,\tInstagram,\tSnapchat,\tTwitter,\tEmail]**. Using such solution as allocation, we are expecting to have ROI of 0.456 millions as our optimized return."
      ]
    },
    {
      "cell_type": "markdown",
      "metadata": {
        "id": "iJQfUcYYJGgC"
      },
      "source": [
        "#### Second ROI"
      ]
    },
    {
      "cell_type": "code",
      "metadata": {
        "id": "v6Ty811OJHsi",
        "colab": {
          "base_uri": "https://localhost:8080/"
        },
        "outputId": "b8b16e0c-66c6-4095-da54-1d4176fa55ae"
      },
      "source": [
        "#Instead of hardcoding the ROIs, create a loop to take each ROI from the second row into an objective vector\n",
        "obj2 = np.zeros(10)\n",
        "for i in range(10):\n",
        "    obj2[i] = df.iloc[1, i+1]\n",
        "\n",
        "A = np.zeros((13,10)) \n",
        "A[0:10,:] = np.identity(len(obj2)) #Each platform constraint\n",
        "A[10,:] = [1,1,0,0,-1,0,0,0,0,-1] #No more than FaceBook and Email\n",
        "A[11,:] = [0,0,2,2,-1,-1,-1,-1,-1,0] #at least twice of AdWords and SEO\n",
        "A[12,:] = 1\n",
        "\n",
        "b = np.array([3,3,3,3,3,3,3,3,3,3,0,0,10]) #The RHS of the constraints vector\n",
        "\n",
        "sense = np.array(['<']*13)  \n",
        "\n",
        "ROIModel2 = gp.Model() # initialize an empty model\n",
        "\n",
        "ROIModX2 = ROIModel2.addMVar(10) # tell the model how many variables there are\n",
        "# must define the variables before adding constraints because variables go into the constraints\n",
        "ROIModCon2 = ROIModel2.addMConstrs(A, ROIModX2, sense, b) # add the constraints to the model\n",
        "ROIModel2.setMObjective(None,obj2,0,sense=gp.GRB.MAXIMIZE) # add the objective to the model\n",
        "\n",
        "ROIModel2.Params.OutputFlag = 0 # tell gurobi to shut up!!\n",
        "\n",
        "ROIModel2.optimize() # solve the LP\n",
        "\n",
        "ROIopt2 = ROIModel2.objVal # optimal profit level\n",
        "print(ROIopt2)\n",
        "\n",
        "alloc2 = ROIModX2.x #Solution for allocations\n",
        "print(alloc2)"
      ],
      "execution_count": 15,
      "outputs": [
        {
          "output_type": "stream",
          "name": "stdout",
          "text": [
            "0.45600000000000007\n",
            "[3. 0. 0. 1. 3. 3. 0. 0. 0. 0.]\n"
          ]
        }
      ]
    },
    {
      "cell_type": "markdown",
      "metadata": {
        "id": "-ByXD5XQVl1b"
      },
      "source": [
        "Based on the second ROI, we have found the optimal allocation **[3. 0. 0. 1. 3. 3. 0. 0. 0. 0.]** on **[Print, TV, SEO, AdWords, Facebook, LinkedIn, Instagram, Snapchat, Twitter, Email]**. Using such solution as allocation, we are also expecting to have ROI of 0.456 millions as our optimized return.\n",
        "\n",
        "However, as our solution shows, we have allocated different amount of money on different platform since the ROI provided has been changed. "
      ]
    },
    {
      "cell_type": "markdown",
      "metadata": {
        "id": "G9HyAWe9JO42"
      },
      "source": [
        "### Q5"
      ]
    },
    {
      "cell_type": "code",
      "metadata": {
        "id": "YhDCxDQQJPt2",
        "colab": {
          "base_uri": "https://localhost:8080/"
        },
        "outputId": "6e357113-97be-4ddf-99d9-d38692ae47c6"
      },
      "source": [
        "#First ROI but Second Allocation\n",
        "optRev = np.matmul(obj1,alloc2) #get the revenue based on the ROI and allocation\n",
        "ROIopt1 - optRev #find the difference between the optimal and calculated revenue"
      ],
      "execution_count": 16,
      "outputs": [
        {
          "output_type": "execute_result",
          "data": {
            "text/plain": [
              "0.20400000000000007"
            ]
          },
          "metadata": {},
          "execution_count": 16
        }
      ]
    },
    {
      "cell_type": "code",
      "metadata": {
        "colab": {
          "base_uri": "https://localhost:8080/"
        },
        "id": "x-PsBvkEQPi6",
        "outputId": "b60d363c-4c7c-441a-ad47-0dbd715a5a8d"
      },
      "source": [
        "#Second ROI but First Allocation\n",
        "optRev = np.matmul(obj2,alloc1)#get the revenue based on the ROI and allocation\n",
        "ROIopt2 - optRev #find the difference between the optimal and calculated revenue"
      ],
      "execution_count": 17,
      "outputs": [
        {
          "output_type": "execute_result",
          "data": {
            "text/plain": [
              "0.19200000000000006"
            ]
          },
          "metadata": {},
          "execution_count": 17
        }
      ]
    },
    {
      "cell_type": "markdown",
      "metadata": {
        "id": "fOnu8O9uJRyR"
      },
      "source": [
        "The optimal revenues are same, but the allocations are not the same. \n",
        "So if you use the first ROI but second allocation, you lose 0.204M compared to the optimal revenue revenue. If the second ROI is correct but you use the first allocation, you lose 0.192M compared to the optimal revenue value. The third constraint can be useful so you dont invest all your money in a small amount of platforms, therefore increasing your risk in your portfolio. It allows diversification with keeping risk in check."
      ]
    },
    {
      "cell_type": "markdown",
      "metadata": {
        "id": "wIc0vq6zJUSo"
      },
      "source": [
        "### Q6"
      ]
    },
    {
      "cell_type": "code",
      "metadata": {
        "colab": {
          "base_uri": "https://localhost:8080/"
        },
        "id": "a-Uk4CpLQdWW",
        "outputId": "9fc96531-da0a-49c7-90c9-327ce2dd23c3"
      },
      "source": [
        "ROIModX1.SAObjLow #Smallest objective value at which the current optimal basis would remain optimal"
      ],
      "execution_count": 18,
      "outputs": [
        {
          "output_type": "execute_result",
          "data": {
            "text/plain": [
              "array([ -inf, 0.039,  -inf, 0.033,  -inf,  -inf, 0.039,  -inf,  -inf,\n",
              "       0.029])"
            ]
          },
          "metadata": {},
          "execution_count": 18
        }
      ]
    },
    {
      "cell_type": "code",
      "metadata": {
        "colab": {
          "base_uri": "https://localhost:8080/"
        },
        "id": "QPzl5OctQfte",
        "outputId": "2651c9b8-84e6-454b-a339-ef11eb3b4652"
      },
      "source": [
        "ROIModX1.SAObjUp #Largest objective value at which the current optimal basis would remain optimal"
      ],
      "execution_count": 19,
      "outputs": [
        {
          "output_type": "execute_result",
          "data": {
            "text/plain": [
              "array([0.049, 0.062, 0.039, 0.046, 0.029, 0.039,   inf, 0.039, 0.039,\n",
              "         inf])"
            ]
          },
          "metadata": {},
          "execution_count": 19
        }
      ]
    },
    {
      "cell_type": "markdown",
      "metadata": {
        "id": "1il-an80WBbf"
      },
      "source": [
        "As our answer shown above, the ROI of  **[Print,\tTV,\tSEO,\tAdWords,\tFacebook,\tLinkedIn,\tInstagram,\tSnapchat,\tTwitter,\tEmail]**  need to decrease to  **[-inf, 0.039,  -inf, 0.033,  -inf,  -inf, 0.039,  -inf,  -inf, 0.029]**  in order to change our optimal solution. \n",
        "\n",
        "On the other hand, **[Print,\tTV,\tSEO,\tAdWords,\tFacebook,\tLinkedIn,\tInstagram,\tSnapchat,\tTwitter,\tEmail]**  will need to increase to **[0.049, 0.062, 0.039, 0.046, 0.029, 0.039,   inf, 0.039, 0.039, inf]** to change our optimal solution."
      ]
    },
    {
      "cell_type": "markdown",
      "metadata": {
        "id": "46Yk6uOzJbSf"
      },
      "source": [
        "### Q7"
      ]
    },
    {
      "cell_type": "code",
      "metadata": {
        "id": "_1LauM__Q0Sq"
      },
      "source": [
        "#Use this if on Jupyter Notebook\n",
        "\n",
        "# read ROI data set\n",
        "df_roi = pd.read_csv('roi_mat.csv')\n",
        "df_roi\n"
      ],
      "execution_count": null,
      "outputs": []
    },
    {
      "cell_type": "code",
      "metadata": {
        "id": "OA2FX29sR06F",
        "colab": {
          "resources": {
            "http://localhost:8080/nbextensions/google.colab/files.js": {
              "data": "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",
              "ok": true,
              "headers": [
                [
                  "content-type",
                  "application/javascript"
                ]
              ],
              "status": 200,
              "status_text": ""
            }
          },
          "base_uri": "https://localhost:8080/",
          "height": 72
        },
        "outputId": "fa46d84b-cfb7-4a09-ae53-67f6ef5036bc"
      },
      "source": [
        "#Use this if on Google Colab\n",
        "\n",
        "from google.colab import files\n",
        "  \n",
        "  \n",
        "uploaded = files.upload()"
      ],
      "execution_count": 20,
      "outputs": [
        {
          "output_type": "display_data",
          "data": {
            "text/html": [
              "\n",
              "     <input type=\"file\" id=\"files-688e76e1-13f5-4eb7-8f88-ff659efd5592\" name=\"files[]\" multiple disabled\n",
              "        style=\"border:none\" />\n",
              "     <output id=\"result-688e76e1-13f5-4eb7-8f88-ff659efd5592\">\n",
              "      Upload widget is only available when the cell has been executed in the\n",
              "      current browser session. Please rerun this cell to enable.\n",
              "      </output>\n",
              "      <script src=\"/nbextensions/google.colab/files.js\"></script> "
            ],
            "text/plain": [
              "<IPython.core.display.HTML object>"
            ]
          },
          "metadata": {}
        },
        {
          "output_type": "stream",
          "name": "stdout",
          "text": [
            "Saving roi_mat.csv to roi_mat.csv\n"
          ]
        }
      ]
    },
    {
      "cell_type": "code",
      "metadata": {
        "id": "5md_lEVkR-kC",
        "colab": {
          "base_uri": "https://localhost:8080/",
          "height": 421
        },
        "outputId": "a64e3fcb-6463-48b6-d661-1a3985945ce5"
      },
      "source": [
        "#Use this if on Google Colab\n",
        "\n",
        "import io\n",
        "\n",
        "# read ROI data set \n",
        "allocation = pd.read_csv(io.BytesIO(uploaded['roi_mat.csv']), index_col=0, header=0)\n",
        "allocation = allocation*0.01\n",
        "allocation"
      ],
      "execution_count": 21,
      "outputs": [
        {
          "output_type": "execute_result",
          "data": {
            "text/html": [
              "<div>\n",
              "<style scoped>\n",
              "    .dataframe tbody tr th:only-of-type {\n",
              "        vertical-align: middle;\n",
              "    }\n",
              "\n",
              "    .dataframe tbody tr th {\n",
              "        vertical-align: top;\n",
              "    }\n",
              "\n",
              "    .dataframe thead th {\n",
              "        text-align: right;\n",
              "    }\n",
              "</style>\n",
              "<table border=\"1\" class=\"dataframe\">\n",
              "  <thead>\n",
              "    <tr style=\"text-align: right;\">\n",
              "      <th></th>\n",
              "      <th>Print</th>\n",
              "      <th>TV</th>\n",
              "      <th>SEO</th>\n",
              "      <th>AdWords</th>\n",
              "      <th>Facebook</th>\n",
              "      <th>LinkedIn</th>\n",
              "      <th>Instagram</th>\n",
              "      <th>Snapchat</th>\n",
              "      <th>Twitter</th>\n",
              "      <th>Email</th>\n",
              "    </tr>\n",
              "  </thead>\n",
              "  <tbody>\n",
              "    <tr>\n",
              "      <th>January</th>\n",
              "      <td>0.040</td>\n",
              "      <td>0.036</td>\n",
              "      <td>0.024</td>\n",
              "      <td>0.039</td>\n",
              "      <td>0.030</td>\n",
              "      <td>0.035</td>\n",
              "      <td>0.036</td>\n",
              "      <td>0.0225</td>\n",
              "      <td>0.035</td>\n",
              "      <td>0.035</td>\n",
              "    </tr>\n",
              "    <tr>\n",
              "      <th>February</th>\n",
              "      <td>0.040</td>\n",
              "      <td>0.039</td>\n",
              "      <td>0.027</td>\n",
              "      <td>0.038</td>\n",
              "      <td>0.043</td>\n",
              "      <td>0.032</td>\n",
              "      <td>0.027</td>\n",
              "      <td>0.0180</td>\n",
              "      <td>0.037</td>\n",
              "      <td>0.035</td>\n",
              "    </tr>\n",
              "    <tr>\n",
              "      <th>March</th>\n",
              "      <td>0.035</td>\n",
              "      <td>0.029</td>\n",
              "      <td>0.031</td>\n",
              "      <td>0.038</td>\n",
              "      <td>0.024</td>\n",
              "      <td>0.041</td>\n",
              "      <td>0.037</td>\n",
              "      <td>0.0260</td>\n",
              "      <td>0.042</td>\n",
              "      <td>0.025</td>\n",
              "    </tr>\n",
              "    <tr>\n",
              "      <th>April</th>\n",
              "      <td>0.038</td>\n",
              "      <td>0.031</td>\n",
              "      <td>0.024</td>\n",
              "      <td>0.044</td>\n",
              "      <td>0.024</td>\n",
              "      <td>0.038</td>\n",
              "      <td>0.037</td>\n",
              "      <td>0.0250</td>\n",
              "      <td>0.036</td>\n",
              "      <td>0.029</td>\n",
              "    </tr>\n",
              "    <tr>\n",
              "      <th>May</th>\n",
              "      <td>0.035</td>\n",
              "      <td>0.032</td>\n",
              "      <td>0.019</td>\n",
              "      <td>0.034</td>\n",
              "      <td>0.027</td>\n",
              "      <td>0.027</td>\n",
              "      <td>0.039</td>\n",
              "      <td>0.0220</td>\n",
              "      <td>0.045</td>\n",
              "      <td>0.039</td>\n",
              "    </tr>\n",
              "    <tr>\n",
              "      <th>June</th>\n",
              "      <td>0.040</td>\n",
              "      <td>0.032</td>\n",
              "      <td>0.027</td>\n",
              "      <td>0.034</td>\n",
              "      <td>0.034</td>\n",
              "      <td>0.030</td>\n",
              "      <td>0.045</td>\n",
              "      <td>0.0210</td>\n",
              "      <td>0.038</td>\n",
              "      <td>0.041</td>\n",
              "    </tr>\n",
              "    <tr>\n",
              "      <th>July</th>\n",
              "      <td>0.039</td>\n",
              "      <td>0.036</td>\n",
              "      <td>0.020</td>\n",
              "      <td>0.044</td>\n",
              "      <td>0.039</td>\n",
              "      <td>0.037</td>\n",
              "      <td>0.043</td>\n",
              "      <td>0.0180</td>\n",
              "      <td>0.040</td>\n",
              "      <td>0.038</td>\n",
              "    </tr>\n",
              "    <tr>\n",
              "      <th>August</th>\n",
              "      <td>0.042</td>\n",
              "      <td>0.033</td>\n",
              "      <td>0.028</td>\n",
              "      <td>0.042</td>\n",
              "      <td>0.020</td>\n",
              "      <td>0.037</td>\n",
              "      <td>0.036</td>\n",
              "      <td>0.0150</td>\n",
              "      <td>0.044</td>\n",
              "      <td>0.043</td>\n",
              "    </tr>\n",
              "    <tr>\n",
              "      <th>September</th>\n",
              "      <td>0.041</td>\n",
              "      <td>0.028</td>\n",
              "      <td>0.025</td>\n",
              "      <td>0.042</td>\n",
              "      <td>0.029</td>\n",
              "      <td>0.037</td>\n",
              "      <td>0.028</td>\n",
              "      <td>0.0250</td>\n",
              "      <td>0.040</td>\n",
              "      <td>0.034</td>\n",
              "    </tr>\n",
              "    <tr>\n",
              "      <th>October</th>\n",
              "      <td>0.030</td>\n",
              "      <td>0.030</td>\n",
              "      <td>0.031</td>\n",
              "      <td>0.046</td>\n",
              "      <td>0.031</td>\n",
              "      <td>0.033</td>\n",
              "      <td>0.032</td>\n",
              "      <td>0.0230</td>\n",
              "      <td>0.025</td>\n",
              "      <td>0.032</td>\n",
              "    </tr>\n",
              "    <tr>\n",
              "      <th>November</th>\n",
              "      <td>0.048</td>\n",
              "      <td>0.033</td>\n",
              "      <td>0.027</td>\n",
              "      <td>0.041</td>\n",
              "      <td>0.029</td>\n",
              "      <td>0.036</td>\n",
              "      <td>0.042</td>\n",
              "      <td>0.0300</td>\n",
              "      <td>0.031</td>\n",
              "      <td>0.041</td>\n",
              "    </tr>\n",
              "    <tr>\n",
              "      <th>December</th>\n",
              "      <td>0.048</td>\n",
              "      <td>0.040</td>\n",
              "      <td>0.019</td>\n",
              "      <td>0.037</td>\n",
              "      <td>0.042</td>\n",
              "      <td>0.036</td>\n",
              "      <td>0.026</td>\n",
              "      <td>0.0290</td>\n",
              "      <td>0.036</td>\n",
              "      <td>0.037</td>\n",
              "    </tr>\n",
              "  </tbody>\n",
              "</table>\n",
              "</div>"
            ],
            "text/plain": [
              "           Print     TV    SEO  AdWords  ...  Instagram  Snapchat  Twitter  Email\n",
              "January    0.040  0.036  0.024    0.039  ...      0.036    0.0225    0.035  0.035\n",
              "February   0.040  0.039  0.027    0.038  ...      0.027    0.0180    0.037  0.035\n",
              "March      0.035  0.029  0.031    0.038  ...      0.037    0.0260    0.042  0.025\n",
              "April      0.038  0.031  0.024    0.044  ...      0.037    0.0250    0.036  0.029\n",
              "May        0.035  0.032  0.019    0.034  ...      0.039    0.0220    0.045  0.039\n",
              "June       0.040  0.032  0.027    0.034  ...      0.045    0.0210    0.038  0.041\n",
              "July       0.039  0.036  0.020    0.044  ...      0.043    0.0180    0.040  0.038\n",
              "August     0.042  0.033  0.028    0.042  ...      0.036    0.0150    0.044  0.043\n",
              "September  0.041  0.028  0.025    0.042  ...      0.028    0.0250    0.040  0.034\n",
              "October    0.030  0.030  0.031    0.046  ...      0.032    0.0230    0.025  0.032\n",
              "November   0.048  0.033  0.027    0.041  ...      0.042    0.0300    0.031  0.041\n",
              "December   0.048  0.040  0.019    0.037  ...      0.026    0.0290    0.036  0.037\n",
              "\n",
              "[12 rows x 10 columns]"
            ]
          },
          "metadata": {},
          "execution_count": 21
        }
      ]
    },
    {
      "cell_type": "code",
      "metadata": {
        "colab": {
          "base_uri": "https://localhost:8080/",
          "height": 421
        },
        "id": "ri_hJqNQUTDa",
        "outputId": "aebe4b3b-e50e-447b-9c39-acae810de780"
      },
      "source": [
        "# expected roi for each month\n",
        "obj_month = np.zeros(10)\n",
        "for i in range(10):\n",
        "    obj_month[i] = df.iloc[0, i+1]\n",
        "    \n",
        "monthly_allocation = np.zeros((12,12))\n",
        "budget = 10\n",
        "for i in range(12):\n",
        "    monthly_allocation[i,11] = budget\n",
        "    A = np.zeros((13, 10)) \n",
        "    A[0,:] = np.ones(10) \n",
        "    A[1,:] = [1,1,0,0,-1,0,0,0,0,-1] \n",
        "    A[2,:] = [0,0,2,2,-1,-1,-1,-1,-1,0] \n",
        "    A[3:13,0:10] = np.diag(np.ones(10))\n",
        "    b = np.array([budget, 0, 0, 3, 3, 3, 3, 3, 3, 3, 3, 3, 3]) \n",
        "    sense = np.array(['<','<','<','<','<','<','<','<','<','<','<','<','<']) \n",
        "    ROIModel = gp.Model() \n",
        "    ROIModX = ROIModel.addMVar(10)\n",
        "    ROIModCon = ROIModel.addMConstrs(A, ROIModX, sense, b) \n",
        "    ROIModel.setMObjective(None,obj_month,0,sense=gp.GRB.MAXIMIZE) \n",
        "    ROIModel.Params.OutputFlag = 0 \n",
        "    ROIModel.optimize()\n",
        "    monthly_allocation[i,0:10] = ROIModX.x\n",
        "    profit = ROIModX.x @ allocation.iloc[i]\n",
        "    monthly_allocation[i,10] = profit\n",
        "    budget = 10 + 0.5*profit\n",
        "\n",
        "monthly_allocation = pd.DataFrame(monthly_allocation, columns=['Print','TV','SEO','AdWords','Facebook','LinkedIn','Instagram','Snapchat','Twitter','Email','Return','Budget'], index=list(allocation.index))\n",
        "monthly_allocation"
      ],
      "execution_count": 22,
      "outputs": [
        {
          "output_type": "execute_result",
          "data": {
            "text/html": [
              "<div>\n",
              "<style scoped>\n",
              "    .dataframe tbody tr th:only-of-type {\n",
              "        vertical-align: middle;\n",
              "    }\n",
              "\n",
              "    .dataframe tbody tr th {\n",
              "        vertical-align: top;\n",
              "    }\n",
              "\n",
              "    .dataframe thead th {\n",
              "        text-align: right;\n",
              "    }\n",
              "</style>\n",
              "<table border=\"1\" class=\"dataframe\">\n",
              "  <thead>\n",
              "    <tr style=\"text-align: right;\">\n",
              "      <th></th>\n",
              "      <th>Print</th>\n",
              "      <th>TV</th>\n",
              "      <th>SEO</th>\n",
              "      <th>AdWords</th>\n",
              "      <th>Facebook</th>\n",
              "      <th>LinkedIn</th>\n",
              "      <th>Instagram</th>\n",
              "      <th>Snapchat</th>\n",
              "      <th>Twitter</th>\n",
              "      <th>Email</th>\n",
              "      <th>Return</th>\n",
              "      <th>Budget</th>\n",
              "    </tr>\n",
              "  </thead>\n",
              "  <tbody>\n",
              "    <tr>\n",
              "      <th>January</th>\n",
              "      <td>0.0</td>\n",
              "      <td>3.0</td>\n",
              "      <td>0.0</td>\n",
              "      <td>1.000000</td>\n",
              "      <td>0.0</td>\n",
              "      <td>0.0</td>\n",
              "      <td>3.0</td>\n",
              "      <td>0.0</td>\n",
              "      <td>0.0</td>\n",
              "      <td>3.0</td>\n",
              "      <td>0.360000</td>\n",
              "      <td>10.000000</td>\n",
              "    </tr>\n",
              "    <tr>\n",
              "      <th>February</th>\n",
              "      <td>0.0</td>\n",
              "      <td>3.0</td>\n",
              "      <td>0.0</td>\n",
              "      <td>1.180000</td>\n",
              "      <td>0.0</td>\n",
              "      <td>0.0</td>\n",
              "      <td>3.0</td>\n",
              "      <td>0.0</td>\n",
              "      <td>0.0</td>\n",
              "      <td>3.0</td>\n",
              "      <td>0.347840</td>\n",
              "      <td>10.180000</td>\n",
              "    </tr>\n",
              "    <tr>\n",
              "      <th>March</th>\n",
              "      <td>0.0</td>\n",
              "      <td>3.0</td>\n",
              "      <td>0.0</td>\n",
              "      <td>1.173920</td>\n",
              "      <td>0.0</td>\n",
              "      <td>0.0</td>\n",
              "      <td>3.0</td>\n",
              "      <td>0.0</td>\n",
              "      <td>0.0</td>\n",
              "      <td>3.0</td>\n",
              "      <td>0.317609</td>\n",
              "      <td>10.173920</td>\n",
              "    </tr>\n",
              "    <tr>\n",
              "      <th>April</th>\n",
              "      <td>0.0</td>\n",
              "      <td>3.0</td>\n",
              "      <td>0.0</td>\n",
              "      <td>1.158804</td>\n",
              "      <td>0.0</td>\n",
              "      <td>0.0</td>\n",
              "      <td>3.0</td>\n",
              "      <td>0.0</td>\n",
              "      <td>0.0</td>\n",
              "      <td>3.0</td>\n",
              "      <td>0.341987</td>\n",
              "      <td>10.158804</td>\n",
              "    </tr>\n",
              "    <tr>\n",
              "      <th>May</th>\n",
              "      <td>0.0</td>\n",
              "      <td>3.0</td>\n",
              "      <td>0.0</td>\n",
              "      <td>1.170994</td>\n",
              "      <td>0.0</td>\n",
              "      <td>0.0</td>\n",
              "      <td>3.0</td>\n",
              "      <td>0.0</td>\n",
              "      <td>0.0</td>\n",
              "      <td>3.0</td>\n",
              "      <td>0.369814</td>\n",
              "      <td>10.170994</td>\n",
              "    </tr>\n",
              "    <tr>\n",
              "      <th>June</th>\n",
              "      <td>0.0</td>\n",
              "      <td>3.0</td>\n",
              "      <td>0.0</td>\n",
              "      <td>1.184907</td>\n",
              "      <td>0.0</td>\n",
              "      <td>0.0</td>\n",
              "      <td>3.0</td>\n",
              "      <td>0.0</td>\n",
              "      <td>0.0</td>\n",
              "      <td>3.0</td>\n",
              "      <td>0.394287</td>\n",
              "      <td>10.184907</td>\n",
              "    </tr>\n",
              "    <tr>\n",
              "      <th>July</th>\n",
              "      <td>0.0</td>\n",
              "      <td>3.0</td>\n",
              "      <td>0.0</td>\n",
              "      <td>1.197143</td>\n",
              "      <td>0.0</td>\n",
              "      <td>0.0</td>\n",
              "      <td>3.0</td>\n",
              "      <td>0.0</td>\n",
              "      <td>0.0</td>\n",
              "      <td>3.0</td>\n",
              "      <td>0.403674</td>\n",
              "      <td>10.197143</td>\n",
              "    </tr>\n",
              "    <tr>\n",
              "      <th>August</th>\n",
              "      <td>0.0</td>\n",
              "      <td>3.0</td>\n",
              "      <td>0.0</td>\n",
              "      <td>1.201837</td>\n",
              "      <td>0.0</td>\n",
              "      <td>0.0</td>\n",
              "      <td>3.0</td>\n",
              "      <td>0.0</td>\n",
              "      <td>0.0</td>\n",
              "      <td>3.0</td>\n",
              "      <td>0.386477</td>\n",
              "      <td>10.201837</td>\n",
              "    </tr>\n",
              "    <tr>\n",
              "      <th>September</th>\n",
              "      <td>0.0</td>\n",
              "      <td>3.0</td>\n",
              "      <td>0.0</td>\n",
              "      <td>1.193239</td>\n",
              "      <td>0.0</td>\n",
              "      <td>0.0</td>\n",
              "      <td>3.0</td>\n",
              "      <td>0.0</td>\n",
              "      <td>0.0</td>\n",
              "      <td>3.0</td>\n",
              "      <td>0.320116</td>\n",
              "      <td>10.193239</td>\n",
              "    </tr>\n",
              "    <tr>\n",
              "      <th>October</th>\n",
              "      <td>0.0</td>\n",
              "      <td>3.0</td>\n",
              "      <td>0.0</td>\n",
              "      <td>1.160058</td>\n",
              "      <td>0.0</td>\n",
              "      <td>0.0</td>\n",
              "      <td>3.0</td>\n",
              "      <td>0.0</td>\n",
              "      <td>0.0</td>\n",
              "      <td>3.0</td>\n",
              "      <td>0.335363</td>\n",
              "      <td>10.160058</td>\n",
              "    </tr>\n",
              "    <tr>\n",
              "      <th>November</th>\n",
              "      <td>0.0</td>\n",
              "      <td>3.0</td>\n",
              "      <td>0.0</td>\n",
              "      <td>1.167681</td>\n",
              "      <td>0.0</td>\n",
              "      <td>0.0</td>\n",
              "      <td>3.0</td>\n",
              "      <td>0.0</td>\n",
              "      <td>0.0</td>\n",
              "      <td>3.0</td>\n",
              "      <td>0.395875</td>\n",
              "      <td>10.167681</td>\n",
              "    </tr>\n",
              "    <tr>\n",
              "      <th>December</th>\n",
              "      <td>0.0</td>\n",
              "      <td>3.0</td>\n",
              "      <td>0.0</td>\n",
              "      <td>1.197937</td>\n",
              "      <td>0.0</td>\n",
              "      <td>0.0</td>\n",
              "      <td>3.0</td>\n",
              "      <td>0.0</td>\n",
              "      <td>0.0</td>\n",
              "      <td>3.0</td>\n",
              "      <td>0.353324</td>\n",
              "      <td>10.197937</td>\n",
              "    </tr>\n",
              "  </tbody>\n",
              "</table>\n",
              "</div>"
            ],
            "text/plain": [
              "           Print   TV  SEO   AdWords  ...  Twitter  Email    Return     Budget\n",
              "January      0.0  3.0  0.0  1.000000  ...      0.0    3.0  0.360000  10.000000\n",
              "February     0.0  3.0  0.0  1.180000  ...      0.0    3.0  0.347840  10.180000\n",
              "March        0.0  3.0  0.0  1.173920  ...      0.0    3.0  0.317609  10.173920\n",
              "April        0.0  3.0  0.0  1.158804  ...      0.0    3.0  0.341987  10.158804\n",
              "May          0.0  3.0  0.0  1.170994  ...      0.0    3.0  0.369814  10.170994\n",
              "June         0.0  3.0  0.0  1.184907  ...      0.0    3.0  0.394287  10.184907\n",
              "July         0.0  3.0  0.0  1.197143  ...      0.0    3.0  0.403674  10.197143\n",
              "August       0.0  3.0  0.0  1.201837  ...      0.0    3.0  0.386477  10.201837\n",
              "September    0.0  3.0  0.0  1.193239  ...      0.0    3.0  0.320116  10.193239\n",
              "October      0.0  3.0  0.0  1.160058  ...      0.0    3.0  0.335363  10.160058\n",
              "November     0.0  3.0  0.0  1.167681  ...      0.0    3.0  0.395875  10.167681\n",
              "December     0.0  3.0  0.0  1.197937  ...      0.0    3.0  0.353324  10.197937\n",
              "\n",
              "[12 rows x 12 columns]"
            ]
          },
          "metadata": {},
          "execution_count": 22
        }
      ]
    },
    {
      "cell_type": "code",
      "metadata": {
        "id": "hXSckvV2SP76",
        "colab": {
          "base_uri": "https://localhost:8080/",
          "height": 295
        },
        "outputId": "253605c5-a4c1-4b72-f392-9abef276a175"
      },
      "source": [
        "import matplotlib.pyplot as plt\n",
        "ax = plt.gca()\n",
        "\n",
        "ax.plot(monthly_allocation.index, monthly_allocation['Budget'],linestyle='-', color='r',label='Month vs. Budget')\n",
        "    \n",
        "plt.rcParams[\"figure.figsize\"] = (12,8)\n",
        "plt.xlabel('Month')\n",
        "plt.ylabel('Money (in millions)')\n",
        "plt.title('Money vs. Month')\n",
        "ax.legend()\n",
        "plt.axis('tight')\n",
        "plt.show()\n",
        "    "
      ],
      "execution_count": 23,
      "outputs": [
        {
          "output_type": "display_data",
          "data": {
            "image/png": "[encoded data removed]",
            "text/plain": [
              "<Figure size 432x288 with 1 Axes>"
            ]
          },
          "metadata": {
            "needs_background": "light"
          }
        }
      ]
    },
    {
      "cell_type": "code",
      "metadata": {
        "colab": {
          "base_uri": "https://localhost:8080/",
          "height": 513
        },
        "id": "z7L6MEMGSRhP",
        "outputId": "7426a64c-edd1-48a5-f3ed-845241ceecc2"
      },
      "source": [
        "ax2 = plt.gca()\n",
        "\n",
        "ax2.plot(monthly_allocation.index, monthly_allocation['Return'],linestyle='-', color='black',label='Month vs. ROI')\n",
        "\n",
        "plt.rcParams[\"figure.figsize\"] = (12,8)\n",
        "plt.xlabel('Month')\n",
        "plt.ylabel('Return (in millions)')\n",
        "plt.title('Month vs. Return')\n",
        "ax.legend()\n",
        "plt.axis('tight')\n",
        "plt.show()\n",
        "    "
      ],
      "execution_count": 24,
      "outputs": [
        {
          "output_type": "display_data",
          "data": {
            "image/png": "[encoded data removed]",
            "text/plain": [
              "<Figure size 864x576 with 1 Axes>"
            ]
          },
          "metadata": {
            "needs_background": "light"
          }
        }
      ]
    },
    {
      "cell_type": "markdown",
      "metadata": {
        "id": "DQmoxIWwYmx-"
      },
      "source": [
        "The answer is shown in dataframe. We are using the first ROI as a forcasting ROI, and using ROI provided in the excel each month as true ROI to calculate the actual return.\n",
        "Based on the plot, we can see that our budget and total amount of money are increasing steadily, but the return we earned changes a lot. The return in Oct. is considerably low although the budget of Oct. is over 12.2 millions. "
      ]
    },
    {
      "cell_type": "markdown",
      "metadata": {
        "id": "wO6CNniZQxby"
      },
      "source": [
        "### Q8"
      ]
    },
    {
      "cell_type": "markdown",
      "metadata": {
        "id": "iHePjZn_SaKT"
      },
      "source": [
        "The monthly allocation is stable as allocations do not change by more than a million during different months.\n"
      ]
    },
    {
      "cell_type": "code",
      "metadata": {
        "id": "rSLOLCwfdfLK"
      },
      "source": [
        ""
      ],
      "execution_count": null,
      "outputs": []
    }
  ]
}